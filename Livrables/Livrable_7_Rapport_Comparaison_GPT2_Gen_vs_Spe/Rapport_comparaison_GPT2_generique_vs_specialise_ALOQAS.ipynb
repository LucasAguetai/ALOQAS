{
 "cells": [
  {
   "cell_type": "markdown",
   "metadata": {
    "id": "_y34zy30kKhS"
   },
   "source": [
    "# Rapport sur la comparaison entre le modèle générique et le modèle spécialisé\n",
    "\n",
    "Dans ce notebook, nous effectuons une comparaison entre le modèle GPT-2 générique et le modèle GPT-2 spécialisé, en comparant la génération de texte sur des prompts techniques spécifiques, et en effectuant des tests d'évaluation en se basant sur le jeu de données d'articles scientifiques.\n",
    "\n",
    "L'objectif est de pouvoir d'observer la différence en termes de qualité et de précision des réponse du modèle par rapport à des questions/prompts techniques et scientifiques, entre le modèle générique et spécialisé.\n",
    "\n",
    "**Groupe ALOQAS**\n",
    "\n",
    "- Aurélien ZUFIC\n",
    "- Lucas AGUETAÏ\n",
    "- Ony ANDRIATSAHAVOJAONA\n",
    "- Quentin VERMEERSCH\n",
    "- Alexandre HUYNH\n",
    "- Samuel DORISMOND\n"
   ]
  },
  {
   "cell_type": "markdown",
   "metadata": {
    "id": "dcYyAamZjWau"
   },
   "source": [
    "---\n",
    "## Import de packages"
   ]
  },
  {
   "cell_type": "code",
   "execution_count": 1,
   "metadata": {
    "colab": {
     "base_uri": "https://localhost:8080/"
    },
    "id": "o-37KOuhTPPe",
    "outputId": "54c77e00-36de-4b9a-90b7-28124cddef33"
   },
   "outputs": [
    {
     "name": "stdout",
     "output_type": "stream",
     "text": [
      "\u001b[2K     \u001b[90m━━━━━━━━━━━━━━━━━━━━━━━━━━━━━━━━━━━━━━━━\u001b[0m \u001b[32m415.4/415.4 kB\u001b[0m \u001b[31m3.2 MB/s\u001b[0m eta \u001b[36m0:00:00\u001b[0m\n",
      "\u001b[2K     \u001b[90m━━━━━━━━━━━━━━━━━━━━━━━━━━━━━━━━━━━━━━━━\u001b[0m \u001b[32m950.8/950.8 kB\u001b[0m \u001b[31m15.9 MB/s\u001b[0m eta \u001b[36m0:00:00\u001b[0m\n",
      "\u001b[2K     \u001b[90m━━━━━━━━━━━━━━━━━━━━━━━━━━━━━━━━━━━━━━━━\u001b[0m \u001b[32m5.2/5.2 MB\u001b[0m \u001b[31m46.9 MB/s\u001b[0m eta \u001b[36m0:00:00\u001b[0m\n",
      "\u001b[2K     \u001b[90m━━━━━━━━━━━━━━━━━━━━━━━━━━━━━━━━━━━━━━━━\u001b[0m \u001b[32m536.6/536.6 kB\u001b[0m \u001b[31m3.7 MB/s\u001b[0m eta \u001b[36m0:00:00\u001b[0m\n",
      "\u001b[2K     \u001b[90m━━━━━━━━━━━━━━━━━━━━━━━━━━━━━━━━━━━━━━━━\u001b[0m \u001b[32m38.3/38.3 MB\u001b[0m \u001b[31m20.8 MB/s\u001b[0m eta \u001b[36m0:00:00\u001b[0m\n",
      "\u001b[2K     \u001b[90m━━━━━━━━━━━━━━━━━━━━━━━━━━━━━━━━━━━━━━━━\u001b[0m \u001b[32m116.3/116.3 kB\u001b[0m \u001b[31m16.7 MB/s\u001b[0m eta \u001b[36m0:00:00\u001b[0m\n",
      "\u001b[2K     \u001b[90m━━━━━━━━━━━━━━━━━━━━━━━━━━━━━━━━━━━━━━━━\u001b[0m \u001b[32m134.8/134.8 kB\u001b[0m \u001b[31m17.9 MB/s\u001b[0m eta \u001b[36m0:00:00\u001b[0m\n",
      "\u001b[?25h\u001b[31mERROR: pip's dependency resolver does not currently take into account all the packages that are installed. This behaviour is the source of the following dependency conflicts.\n",
      "ibis-framework 7.1.0 requires pyarrow<15,>=2, but you have pyarrow 15.0.0 which is incompatible.\u001b[0m\u001b[31m\n",
      "\u001b[0m"
     ]
    }
   ],
   "source": [
    "!pip install keras_nlp -q\n",
    "!pip install datasets -q"
   ]
  },
  {
   "cell_type": "code",
   "execution_count": 2,
   "metadata": {
    "colab": {
     "base_uri": "https://localhost:8080/"
    },
    "id": "7Ko-xzBtS31k",
    "outputId": "fb6c69a3-06c0-47bf-cb92-83a1549ee7f9"
   },
   "outputs": [
    {
     "name": "stdout",
     "output_type": "stream",
     "text": [
      "Using TensorFlow backend\n",
      "Mounted at /content/drive\n"
     ]
    }
   ],
   "source": [
    "import tensorflow as tf\n",
    "from google.colab import drive\n",
    "import json\n",
    "import os\n",
    "import sys\n",
    "import keras_nlp\n",
    "import time\n",
    "from tensorflow import keras\n",
    "import numpy as np\n",
    "\n",
    "drive.mount('/content/drive', force_remount=True)\n",
    "sys.path.append('/content/drive/MyDrive/package')\n",
    "#import datasets_scientific_paper as load_ds"
   ]
  },
  {
   "cell_type": "code",
   "execution_count": 3,
   "metadata": {
    "colab": {
     "base_uri": "https://localhost:8080/",
     "height": 440,
     "referenced_widgets": [
      "5664e9853b014b74b52da4305e8e701d",
      "6279e9c74ed24fa4ba21ef7350c2dc70",
      "6905b28f44a844479de471f51d66c54e",
      "5e8a66977fc145a781fdd1af4412ab18",
      "f1e09858d311415ca1e9475b0d7c34da",
      "4ca2a2907690479582c03514cfb2673f",
      "d75638783f2246a0a0689981e530e4cb",
      "d85a99409fff4b27b2aa0c3d5b168316",
      "43dfa1ae39e04b2fbac95c8e32902fb7",
      "019c487859074b9bb6ba0e5f0efda203",
      "62671da4038044ffa8b6809609837616",
      "48d455cd5df749eb9bbe79dc1fd9c4b5",
      "062bb99a38e746e482c683120eea6167",
      "c6caf747703f48ca8ff43fbe6d0f09cc",
      "76f8e561a86e4916bbd819a67cd9a76e",
      "8dc6039e647b4e4d8b60cbffc431ce7a",
      "bd8d0339b7c140dc836c294c43553a05",
      "6be6c06324394c71baf20ed315c1616d",
      "6eb66e592a6c45eca8c467541239d7c0",
      "091dd48eb9cd4fec89607dbf2e61a515",
      "8fbe93ee7d384184919fb17852ab84f3",
      "3ae2ed4a03fb4ae597acc96628499c54",
      "17f428e66bde4acc89db0b9bc1049a2f",
      "d143e4e09cb04ad2b66959898bd37516",
      "e2d7fe2d6cd644f7b2c54adfc2ced93f",
      "daa36e432f80464dac1aad3c5071508d",
      "8e5ffa24d34f46528e9d588e8183271e",
      "edce8a0d692b4ce9b98a11545f89ca1b",
      "951793b9d48f4fd58d596f15af0e9797",
      "34efaaa4c79b42e8be6b5677d55a42eb",
      "177287a0eac24febb60a953e5e14ea0a",
      "c0a85df2c65a41f5b938ca944b7bed2b",
      "a7c7a0c5fcd54baa96ee2e4b1d3ec86a",
      "748a585b065f4a358ff3e57229e8f3f1",
      "9cbd0090e8314483a379271b84df13c7",
      "82b85f9e714448e5b22fd9e993b1cf58",
      "2ab8ac58fdb24f3abf839b6d20462356",
      "299e96c2ea96428ea1db90f38ebd9cc8",
      "181de2038d2f4c1995d4e25d9f5a1524",
      "ba8eb7712e6a4c70aba3bbe8b37905a1",
      "f4c35671158a4b5980b720cbbc7643da",
      "51714ef71eee46bfa46379c2bedeeb60",
      "ba1d388b2ca44ec4aec33f68ca91351b",
      "b56a55088936411eb6dd45dfd1b5d6cf",
      "0f6971e62c504d689a2f3aee04565682",
      "98a8a7671db94a38b58eed72193755d2",
      "77d637319558427bad5628ef5509415a",
      "fe8e337559ac48168b5fc5c05d981589",
      "aaac76217e474fe98c512a09c6cdd191",
      "f687181eccec4eac8c0354d439f3d5b8",
      "702316d6ad0d4d11bd8fa08eee9add6a",
      "e8be989c9bdc4d89b78bfc9fc892f1a9",
      "4631201609d64cc29d8d87a796f42fd7",
      "f67aeaabd0b74650bc151ef7c70e0922",
      "0188591fbce7422bbe4293a866ea422b",
      "729017073c2c4a2f86e45375878848b1",
      "6abc30c2f9514199b0faa1e33ee97648",
      "7040a28f505249b5a74f0866f03363ae",
      "a52f4ab858034018b4829c0f28c551e7",
      "32309d255107466a96ddbf52a4d44e55",
      "4a284485ee214953bab8907b0f31cbca",
      "63f50a8f73e34368a5009846ac395bbb",
      "7181e5a0b5ea46a69d9051a942eddbe1",
      "f5f1a48feae94207ad7272e9bc1b4209",
      "a948d89883f2478c895a6f7880b97712",
      "199b389f4b97488d8c2ee8ebf135a653",
      "30087733e5fc41ffa109833d2187cacb",
      "38ea513fb302417984ecb7ab015aa7a6",
      "2297341b7b1948d684facde240e753c2",
      "818883b93d124f0a978971e33186a417",
      "df9e665ec3434346b11de4b50c977d61",
      "5a4a7b69ed574037822d240e41ad3d8f",
      "e40c76ad501b47299b160a67e53106a1",
      "e6eb8b846f604cfaa68bc34513a6a4d3",
      "e60fa4ef56e94c4ba3ed5c85fbc7d9c6",
      "051950bdb8534e6f922e04cfd983ed8b",
      "74f9bfe6c43842f9a7b28b94b55b908b"
     ]
    },
    "id": "HmxuvvJHF76n",
    "outputId": "71fcb077-9647-43f9-e2a9-af1892ab263b"
   },
   "outputs": [
    {
     "name": "stderr",
     "output_type": "stream",
     "text": [
      "/usr/local/lib/python3.10/dist-packages/huggingface_hub/utils/_token.py:88: UserWarning: \n",
      "The secret `HF_TOKEN` does not exist in your Colab secrets.\n",
      "To authenticate with the Hugging Face Hub, create a token in your settings tab (https://huggingface.co/settings/tokens), set it as secret in your Google Colab and restart your session.\n",
      "You will be able to reuse this secret in all of your notebooks.\n",
      "Please note that authentication is recommended but still optional to access public models or datasets.\n",
      "  warnings.warn(\n",
      "/usr/local/lib/python3.10/dist-packages/datasets/load.py:1454: FutureWarning: The repository for scientific_papers contains custom code which must be executed to correctly load the dataset. You can inspect the repository content at https://hf.co/datasets/scientific_papers\n",
      "You can avoid this message in future by passing the argument `trust_remote_code=True`.\n",
      "Passing `trust_remote_code=True` will be mandatory to load this dataset from the next major release of `datasets`.\n",
      "  warnings.warn(\n"
     ]
    },
    {
     "data": {
      "application/vnd.jupyter.widget-view+json": {
       "model_id": "5664e9853b014b74b52da4305e8e701d",
       "version_major": 2,
       "version_minor": 0
      },
      "text/plain": [
       "Downloading builder script:   0%|          | 0.00/5.35k [00:00<?, ?B/s]"
      ]
     },
     "metadata": {},
     "output_type": "display_data"
    },
    {
     "data": {
      "application/vnd.jupyter.widget-view+json": {
       "model_id": "48d455cd5df749eb9bbe79dc1fd9c4b5",
       "version_major": 2,
       "version_minor": 0
      },
      "text/plain": [
       "Downloading readme:   0%|          | 0.00/8.27k [00:00<?, ?B/s]"
      ]
     },
     "metadata": {},
     "output_type": "display_data"
    },
    {
     "data": {
      "application/vnd.jupyter.widget-view+json": {
       "model_id": "17f428e66bde4acc89db0b9bc1049a2f",
       "version_major": 2,
       "version_minor": 0
      },
      "text/plain": [
       "Downloading data:   0%|          | 0.00/3.62G [00:00<?, ?B/s]"
      ]
     },
     "metadata": {},
     "output_type": "display_data"
    },
    {
     "data": {
      "application/vnd.jupyter.widget-view+json": {
       "model_id": "748a585b065f4a358ff3e57229e8f3f1",
       "version_major": 2,
       "version_minor": 0
      },
      "text/plain": [
       "Downloading data:   0%|          | 0.00/880M [00:00<?, ?B/s]"
      ]
     },
     "metadata": {},
     "output_type": "display_data"
    },
    {
     "data": {
      "application/vnd.jupyter.widget-view+json": {
       "model_id": "0f6971e62c504d689a2f3aee04565682",
       "version_major": 2,
       "version_minor": 0
      },
      "text/plain": [
       "Generating train split:   0%|          | 0/119924 [00:00<?, ? examples/s]"
      ]
     },
     "metadata": {},
     "output_type": "display_data"
    },
    {
     "data": {
      "application/vnd.jupyter.widget-view+json": {
       "model_id": "729017073c2c4a2f86e45375878848b1",
       "version_major": 2,
       "version_minor": 0
      },
      "text/plain": [
       "Generating validation split:   0%|          | 0/6633 [00:00<?, ? examples/s]"
      ]
     },
     "metadata": {},
     "output_type": "display_data"
    },
    {
     "data": {
      "application/vnd.jupyter.widget-view+json": {
       "model_id": "30087733e5fc41ffa109833d2187cacb",
       "version_major": 2,
       "version_minor": 0
      },
      "text/plain": [
       "Generating test split:   0%|          | 0/6658 [00:00<?, ? examples/s]"
      ]
     },
     "metadata": {},
     "output_type": "display_data"
    }
   ],
   "source": [
    "from datasets import load_dataset\n",
    "\n",
    "dataset = load_dataset(\"scientific_papers\", \"pubmed\")"
   ]
  },
  {
   "cell_type": "markdown",
   "metadata": {
    "id": "bkSQVbF7ScJw"
   },
   "source": [
    "---\n",
    "## Initialisation du modèle GPT-2"
   ]
  },
  {
   "cell_type": "code",
   "execution_count": 4,
   "metadata": {
    "colab": {
     "base_uri": "https://localhost:8080/"
    },
    "id": "NkGUW8SSSmzQ",
    "outputId": "0f796e55-e86a-4ab3-9fa1-c81461294af7"
   },
   "outputs": [
    {
     "name": "stderr",
     "output_type": "stream",
     "text": [
      "Downloading from https://www.kaggle.com/api/v1/models/keras/gpt2/keras/gpt2_base_en/2/download/tokenizer.json...\n",
      "100%|██████████| 448/448 [00:00<00:00, 299kB/s]\n",
      "Downloading from https://www.kaggle.com/api/v1/models/keras/gpt2/keras/gpt2_base_en/2/download/assets/tokenizer/merges.txt...\n",
      "100%|██████████| 446k/446k [00:00<00:00, 2.94MB/s]\n",
      "Downloading from https://www.kaggle.com/api/v1/models/keras/gpt2/keras/gpt2_base_en/2/download/assets/tokenizer/vocabulary.json...\n",
      "100%|██████████| 0.99M/0.99M [00:00<00:00, 4.84MB/s]\n",
      "Downloading from https://www.kaggle.com/api/v1/models/keras/gpt2/keras/gpt2_base_en/2/download/config.json...\n",
      "100%|██████████| 484/484 [00:00<00:00, 488kB/s]\n",
      "Downloading from https://www.kaggle.com/api/v1/models/keras/gpt2/keras/gpt2_base_en/2/download/model.weights.h5...\n",
      "100%|██████████| 475M/475M [00:05<00:00, 86.5MB/s]\n",
      "/usr/local/lib/python3.10/dist-packages/keras_nlp/src/models/backbone.py:37: UserWarning: `Model.state_updates` will be removed in a future version. This property should not be used in TensorFlow 2.0, as `updates` are applied automatically.\n",
      "  return id(getattr(self, attr)) not in self._functional_layer_ids\n",
      "/usr/local/lib/python3.10/dist-packages/keras_nlp/src/models/backbone.py:37: UserWarning: `layer.updates` will be removed in a future version. This property should not be used in TensorFlow 2.0, as `updates` are applied automatically.\n",
      "  return id(getattr(self, attr)) not in self._functional_layer_ids\n"
     ]
    }
   ],
   "source": [
    "os.environ[\"KERAS_BACKEND\"] = \"tensorflow\"\n",
    "\n",
    "keras.mixed_precision.set_global_policy(\"mixed_float16\")\n",
    "\n",
    "preprocessor = keras_nlp.models.GPT2CausalLMPreprocessor.from_preset(\n",
    "    \"gpt2_base_en\",\n",
    "    sequence_length=128,\n",
    ")\n",
    "gpt2_lm = keras_nlp.models.GPT2CausalLM.from_preset(\n",
    "    \"gpt2_base_en\", preprocessor=preprocessor\n",
    ")"
   ]
  },
  {
   "cell_type": "markdown",
   "metadata": {
    "id": "C3aEAsgyl8TO"
   },
   "source": [
    "---\n",
    "## Génération de texte avec le modèle GPT-2 générique (sans fine-tuning)"
   ]
  },
  {
   "cell_type": "code",
   "execution_count": 5,
   "metadata": {
    "id": "01RhGaukbeZN"
   },
   "outputs": [],
   "source": [
    "# Fonction génération de texte\n",
    "def generate_text(prompt):\n",
    "    start = time.time()\n",
    "    output = gpt2_lm.generate(prompt, max_length=200)\n",
    "    end = time.time()\n",
    "    print('________________________________________________')\n",
    "    print(f\"\\nPrompt: {prompt}\")\n",
    "    print(\"GPT-2 output:\")\n",
    "    print(output)\n",
    "    print(f\"TOTAL TIME ELAPSED: {end - start:.2f}s\")\n",
    "    #return output"
   ]
  },
  {
   "cell_type": "code",
   "execution_count": 6,
   "metadata": {
    "id": "B_BOq-U2911q"
   },
   "outputs": [],
   "source": [
    "# Prompts génération de texte\n",
    "prompts = [\n",
    "    \"Cardiac hypertrophy is initiated as an adaptive response to sustained overload but progresses pathologically as heart failure ensues. On this topic, I know that\", # extrait article repository arxiv\n",
    "    \"How does the structure of a multiplex affects the walk applications to real-world airline transportation networks ?\", # extrait article repository arxiv\n",
    "    \"Could you explain to me what is the Inherited defect of coagulation factors and PE Inherited defects of fibrinolysis ?\", # extrait article repository pubmed\n",
    "    \"What are the latest advancements in cancer research ?\", # exemple suggestion personnelle\n",
    "    \"What is the impact of diet on heart disease according to recent studies ?\", # exemple suggestion personnelle\n",
    "    \"What are the usual causes of lung pain ?\", # exemple suggestion personnelle\n",
    "    \"\", # génération vide\n",
    "    \"\" # génération vide\n",
    "]"
   ]
  },
  {
   "cell_type": "code",
   "execution_count": null,
   "metadata": {
    "colab": {
     "base_uri": "https://localhost:8080/",
     "height": 1000
    },
    "id": "XarJaLXKjfIx",
    "outputId": "9379f70c-3aaf-44b1-85e7-2b871b5f5343"
   },
   "outputs": [
    {
     "name": "stdout",
     "output_type": "stream",
     "text": [
      "Output GPT-2 générique\n",
      "________________________________________________\n",
      "\n",
      "Prompt: Cardiac hypertrophy is initiated as an adaptive response to sustained overload but progresses pathologically as heart failure ensues. On this topic, I know that\n",
      "GPT-2 output:\n",
      "Cardiac hypertrophy is initiated as an adaptive response to sustained overload but progresses pathologically as heart failure ensues. On this topic, I know that the first step in the process of hypertrophy is the removal of the sympathetic nervous system from the heart, and this process involves the removal of the blood-brain barrier (BBB), the main source of the blood supply to the central nervous system. The BBB is a central component of the heart and, therefore, is the primary organ of circulation for the heart.\n",
      "\n",
      "The heart is a large body of blood, with many different types, and the BBB, in particular the blood supply to the heart, is a major organ of the central nervous system (CNS), which is responsible for the flow of blood to the heart. The blood supply to the heart is regulated by several factors, including:\n",
      "\n",
      "Cardiovascular disease (heart failure)\n",
      "\n",
      "Cardiovascular diseases (stroke, heart failure)\n",
      "\n",
      "Heart failure\n",
      "TOTAL TIME ELAPSED: 43.35s\n",
      "________________________________________________\n",
      "\n",
      "Prompt: How does the structure of a multiplex affects the walk applications to real-world airline transportation networks ?\n",
      "GPT-2 output:\n",
      "How does the structure of a multiplex affects the walk applications to real-world airline transportation networks ? The answer is in the form of a network that connects all passengers to the same airline. The network is a multi-tier, multi-level structure, and can be used to create a multi-level network that is not only flexible, but is scalable. The multi-tier structure allows a network that is multi-tier to connect to a wide variety of airlines in a single place, including: United, Air France, Air France-KLM, and Air France-CAC, and also to connect to many other airlines in a single place, from United to United to Air Canada.\n",
      "\n",
      "The multi-tier structure allows a network that is multi-tier to connect to a wide range of airlines in a single place, including: United, Air France, Air France-KLM, and Air France-CAC, and also to connect to many other airlines in a single place\n",
      "TOTAL TIME ELAPSED: 26.04s\n",
      "________________________________________________\n",
      "\n",
      "Prompt: Could you explain to me what is the Inherited defect of coagulation factors and PE Inherited defects of fibrinolysis ?\n",
      "GPT-2 output:\n",
      "Could you explain to me what is the Inherited defect of coagulation factors and PE Inherited defects of fibrinolysis ?\n",
      "\n",
      "It is not the Inherited defect of fibrinolysis but the Inherited defect of PE Inherited defects. In coagulation factors, the Inherited defect is the same, but the Inherited defect is a little different in that it can be inherited in coagulation factors only. It is also possible that the inherited defect has some effect on coagulation factor.\n",
      "\n",
      "The Inherited defect of coagulation factors is that coagulation factor is not present at the moment. But it may be present in coagulation factors, and the Inherited defect is present in coagulation factors. It is not clear why the Inherited defect is different in coagulation factors.\n",
      "\n",
      "The Inherited defect of coagulation factors may be inherited from a coagulation factor that is different from the coag\n",
      "TOTAL TIME ELAPSED: 24.99s\n",
      "________________________________________________\n",
      "\n",
      "Prompt: What are the latest advancements in cancer research ?\n",
      "GPT-2 output:\n",
      "What are the latest advancements in cancer research ? The latest advancements in cancer research\n",
      "\n",
      "In the United States, the cancer rate for women aged 15 to 64 is on a downward trend, from 7 percent in 1999 to 5.5 percent in 2014. The number of cancer cases is also declining. The number of cancer patients in the United States is on a downward trend, from 1.3 percent in 1999 to 5.1 percent in 2014. The cancer rate for women aged 15 to 64 is on a downward trend , from 1.4 percent in 1999 to 5.3 percent in 2014. The number of cancer patients in the United States is on a downward trend , from 1.4 percent in 1999 to 5.3 percent in 2014.\n",
      "\n",
      "In 2014, a total of 1,739 women aged 15 to 64 (1.7%) were diagnosed with breast cancer, compared to 1,829 (1.8%) who had never been diagnosed with breast cancer, according to\n",
      "TOTAL TIME ELAPSED: 28.19s\n",
      "________________________________________________\n",
      "\n",
      "Prompt: What is the impact of diet on heart disease according to recent studies ?\n",
      "GPT-2 output:\n",
      "What is the impact of diet on heart disease according to recent studies ?\n",
      "\n",
      "\n",
      "The most recent research on the impact of diet on cardiovascular disease has shown that the risk of heart disease is reduced with increasing amounts of saturated fat, and that saturated fats are associated with increased risk of heart disease. The risk reduction from dietary fats is associated with a reduction in risk of heart disease in the elderly and in the obese. In fact, the risk reduction from diet has been associated with a reduction in the risk of heart disease among the obese. The most recent evidence for a reduction from saturated fats in heart disease has shown that the risk of heart disease is reduced with increasing amounts of saturated fat, and that saturated fats are associated with increased risk of heart disease.\n",
      "\n",
      "\n",
      "The most recent research on the effect of diet on cardiovascular disease has shown that the risk of heart disease is reduced with increasing amounts of saturated fat, and that saturated fats are associated with increased risk of heart disease. In fact, the risk reduction\n",
      "TOTAL TIME ELAPSED: 26.21s\n",
      "________________________________________________\n",
      "\n",
      "Prompt: What are the usual causes of lung pain ?\n",
      "GPT-2 output:\n",
      "What are the usual causes of lung pain ?\n",
      "\n",
      "A lot. The first thing to look out for is that you are not breathing. If you are breathing, there are a few common causes of lung pain:\n",
      "\n",
      "Lungs\n",
      "\n",
      "Lungs are a common cause of lung pain. The cause of lung pain can vary by person. In general, the more you are breathing, the more likely you are to have lung pain.\n",
      "\n",
      "Lungs may be a common cause of lung pain. The cause of lung pain can vary by person. In general, the more you are breathing, the less likely you are to have lung pain. Sudden death syndrome\n",
      "\n",
      "The condition that causes lung pain is called sudden death syndrome (SD). This is a common cause of death for those with asthma. The reason that people are more likely to have SD is because they have a higher rate of asthma, so they have more of a risk of lung disease.\n",
      "\n",
      "What\n",
      "TOTAL TIME ELAPSED: 27.81s\n"
     ]
    },
    {
     "data": {
      "application/vnd.google.colaboratory.intrinsic+json": {
       "type": "string"
      },
      "text/plain": [
       "'\\nprint(output_generique0 + \"\\n\")\\nprint(output_generique1 + \"\\n\")\\nprint(output_generique2 + \"\\n\")\\n'"
      ]
     },
     "execution_count": 11,
     "metadata": {},
     "output_type": "execute_result"
    }
   ],
   "source": [
    "# Génération de texte avec le modèle générique\n",
    "\n",
    "print(\"Output GPT-2 générique\")\n",
    "i=0\n",
    "while i < len(prompts):\n",
    "  generate_text(prompts[i])\n",
    "  i+=1"
   ]
  },
  {
   "cell_type": "code",
   "execution_count": 7,
   "metadata": {
    "colab": {
     "base_uri": "https://localhost:8080/"
    },
    "id": "xuvuYdNEpwEV",
    "outputId": "01a27de1-802c-405e-8f20-c73173aa0631"
   },
   "outputs": [
    {
     "name": "stdout",
     "output_type": "stream",
     "text": [
      "Output GPT-2 générique - Prompt string vide\n",
      "________________________________________________\n",
      "\n",
      "Prompt: \n",
      "GPT-2 output:\n",
      "\"I don't think you should be able to go on the Internet, and that's why you're doing it. It's not a good idea,\" he said.\n",
      "\n",
      "The former Republican senator from Texas was among a handful of lawmakers who have taken to Twitter to express their support for Mr. Trump's travel ban.\n",
      "\n",
      "\"The people of the U.S. have a right to know who the president is and what his intentions are,\" said Sen. John McCain, R-Ariz., who was among those who took to the platform to call for \"an independent and impartial investigation\" of the ban.\n",
      "\n",
      "The president's executive order temporarily blocked immigration from seven Muslim-majority countries, including Iran, Iraq, Libya, Somalia, Sudan, Syria and Yemen.\n",
      "\n",
      "The ban is a response to a series of high-profile incidents in recent years that have raised questions about whether President Trump's executive actions will have a negative effect on U.S. security. The\n",
      "TOTAL TIME ELAPSED: 18.61s\n",
      "________________________________________________\n",
      "\n",
      "Prompt: \n",
      "GPT-2 output:\n",
      "\"We've seen a lot in the last couple of months,\" he said, \"we've seen a lot of people who want to get involved and we've seen a lot of people who think it's not going to happen.\"\n",
      "\n",
      "\"The only thing I can say for sure right now is that this is the best we have seen in terms of the way it's been handled.\"\n",
      "\n",
      "The mayor, who was in the audience, said there was a lot that could happen if he were elected.\n",
      "\n",
      "\"We've got to be realistic and make sure that this is what happens. This is not going to happen. I think we've seen a lot of people who want to do this,\" he said. \"We're going to have a very difficult time.\"\n",
      "\n",
      "The mayor said he was pleased the community was taking the time to hear from the community.\n",
      "\n",
      "\"I think it's really nice to have a community like that,\" he said, \"and that's\n",
      "TOTAL TIME ELAPSED: 0.98s\n"
     ]
    }
   ],
   "source": [
    "print(\"Output GPT-2 générique - Prompt string vide\")\n",
    "generate_text(\"\")\n",
    "generate_text(\"\")"
   ]
  },
  {
   "cell_type": "markdown",
   "metadata": {
    "id": "QIzCULGimF9c"
   },
   "source": [
    "---\n",
    "## Test d'évaluation du modèle GPT-2 générique (sans fine-tuning)"
   ]
  },
  {
   "cell_type": "code",
   "execution_count": null,
   "metadata": {
    "colab": {
     "base_uri": "https://localhost:8080/"
    },
    "id": "cvEvKFiArxza",
    "outputId": "6bde1f3e-41bd-4b13-aa2a-af7a445f478c"
   },
   "outputs": [
    {
     "metadata": {
      "tags": null
     },
     "name": "stderr",
     "output_type": "stream",
     "text": [
      "WARNING:tensorflow:`evaluate()` received a value for `sample_weight`, but `weighted_metrics` were not provided.  Did you mean to pass metrics to `weighted_metrics` in `compile()`?  If this is intentional you can pass `weighted_metrics=[]` to `compile()` in order to silence this warning.\n"
     ]
    },
    {
     "name": "stdout",
     "output_type": "stream",
     "text": [
      "208/208 [==============================] - 3346s 16s/step - loss: 3.9689 - sparse_categorical_accuracy: 0.3391\n",
      "Validation Loss: 3.9688880443573\n",
      "Validation Accuracy: 0.33905521035194397\n"
     ]
    }
   ],
   "source": [
    "val_features = dataset[\"validation\"][:][\"article\"]\n",
    "\n",
    "# Évaluer le modèle sur les données de validation\n",
    "with tf.device('/device:GPU:0'):\n",
    "  val_loss, val_accuracy = gpt2_lm.evaluate(\n",
    "      x=val_features,\n",
    "      verbose=1\n",
    "  )\n",
    "\n",
    "# Afficher les résultats de l'évaluation\n",
    "print(f\"GPT-2 générique - Validation Loss: {val_loss}\")\n",
    "print(f\"GPT-2 générique - Validation Accuracy: {val_accuracy}\")"
   ]
  },
  {
   "cell_type": "code",
   "execution_count": null,
   "metadata": {
    "colab": {
     "base_uri": "https://localhost:8080/"
    },
    "id": "D35hYwt1rzSf",
    "outputId": "6b188f31-afc2-4bc7-a431-610a0588f175"
   },
   "outputs": [
    {
     "name": "stderr",
     "output_type": "stream",
     "text": [
      "WARNING:tensorflow:`evaluate()` received a value for `sample_weight`, but `weighted_metrics` were not provided.  Did you mean to pass metrics to `weighted_metrics` in `compile()`?  If this is intentional you can pass `weighted_metrics=[]` to `compile()` in order to silence this warning.\n"
     ]
    },
    {
     "name": "stdout",
     "output_type": "stream",
     "text": [
      "209/209 [==============================] - 3310s 16s/step - loss: 3.9504 - sparse_categorical_accuracy: 0.3406\n",
      "GPT-2 spécialisé - Test Loss: 3.9503707885742188\n",
      "GPT-2 spécialisé - Test Accuracy: 0.34061935544013977\n"
     ]
    }
   ],
   "source": [
    "test_features = dataset[\"test\"][:][\"article\"]\n",
    "\n",
    "# Évaluer le modèle sur les données de test\n",
    "with tf.device('/device:GPU:0'):\n",
    "  test_loss, test_accuracy = gpt2_lm.evaluate(\n",
    "      x=np.array(test_features),\n",
    "      verbose=1\n",
    "  )\n",
    "\n",
    "# Afficher les résultats de l'évaluation\n",
    "print(f\"GPT-2 générique - Test Loss: {test_loss}\")\n",
    "print(f\"GPT-2 générique - Test Accuracy: {test_accuracy}\")"
   ]
  },
  {
   "cell_type": "markdown",
   "metadata": {
    "id": "uUOxgRberhoO"
   },
   "source": [
    "---\n",
    "## Génération de texte avec le modèle GPT-2 spécialisé (avec fine-tuning)\n",
    "\n",
    "Finetuné sur le jeu de données d'articles scientifiques."
   ]
  },
  {
   "cell_type": "code",
   "execution_count": 12,
   "metadata": {
    "colab": {
     "base_uri": "https://localhost:8080/"
    },
    "id": "HCzNBLKsS234",
    "outputId": "311844fa-b1ee-4d40-e6f6-a9d5f45dc499"
   },
   "outputs": [
    {
     "data": {
      "text/plain": [
       "<tensorflow.python.checkpoint.checkpoint.CheckpointLoadStatus at 0x7ecbf33ba110>"
      ]
     },
     "execution_count": 12,
     "metadata": {},
     "output_type": "execute_result"
    }
   ],
   "source": [
    "# Chargement des paramètres GPT-2 finetuné sur les articles scientifiques\n",
    "#checkpoint_path = \"/content/drive/MyDrive/training_data_all_remake/cp.ckpt\"\n",
    "checkpoint_path = \"/content/drive/MyDrive/training_data_all_remake_base_epochs/cp.ckpt\"\n",
    "\n",
    "gpt2_lm.load_weights(checkpoint_path)"
   ]
  },
  {
   "cell_type": "markdown",
   "metadata": {
    "id": "OVs9Lv9RdVN9"
   },
   "source": [
    "### Modèle GPT-2 finetuné - 1ère version\n",
    "\n",
    "GPT-2 Base, entrainé sur dataset téléchargé et divisé manuellement"
   ]
  },
  {
   "cell_type": "code",
   "execution_count": null,
   "metadata": {
    "colab": {
     "base_uri": "https://localhost:8080/",
     "height": 752
    },
    "id": "C6UtjgFTmw1Q",
    "outputId": "ee1c732d-6c03-435b-be64-82747789e63b"
   },
   "outputs": [
    {
     "name": "stdout",
     "output_type": "stream",
     "text": [
      "Output GPT-2 spécialisé\n",
      "________________________________________________\n",
      "\n",
      "Prompt: Cardiac hypertrophy is initiated as an adaptive response to sustained overload but progresses pathologically as heart failure ensues. On this topic, I know that\n",
      "GPT-2 output:\n",
      "Cardiac hypertrophy is initiated as an adaptive response to sustained overload but progresses pathologically as heart failure ensues. On this topic, I know that there is a growing body of evidence indicating the association between cardiometabolic changes and cardiovascular disease . the relationship between cardiometabolic and cardiovascular risk is well established.2 the role of the heart is to support the development of a cardiometabolic state , and the role of the heart is to support the development of a cardiometabolic state . the heart is a complex organ and its function requires the ability to maintain and regenerate its integrity , and the heart is the\n",
      "TOTAL TIME ELAPSED: 32.71s\n",
      "________________________________________________\n",
      "\n",
      "Prompt: How does the structure of a multiplex affects the walk applications to real-world airline transportation networks ?\n",
      "GPT-2 output:\n",
      "How does the structure of a multiplex affects the walk applications to real-world airline transportation networks ? it is a well known fact that the structure of a network is not the only one that determines the success of the flight ( e.g. , [ 1 , 2 ] ) . for example , the shape of the network is influenced by the shape of the transport network , which in turn is determined by the location of the transport system . the shape of a network depends on the location and orientation of the transport system . the shape of a network depends on the shape of the transport system and the position of the transport system . the shape\n",
      "TOTAL TIME ELAPSED: 15.57s\n",
      "________________________________________________\n",
      "\n",
      "Prompt: Could you explain to me what is the Inherited defect of coagulation factors and PE Inherited defects of fibrinolysis ?\n",
      "GPT-2 output:\n",
      "Could you explain to me what is the Inherited defect of coagulation factors and PE Inherited defects of fibrinolysis ? \n",
      "  my question is simple : what is the inherited defect of fibrinolysis , which is caused by a defective production of a coagulation factor in the absence of a defect of the coagulation factors , which is produced by the defective production of an fibrinolysis in a deficient fashion ? \n",
      "  my question is simple : what is the inherited defect of fibrinolysis , which is caused by a defective production of a coagulation factor in\n",
      "TOTAL TIME ELAPSED: 14.74s\n",
      "________________________________________________\n",
      "\n",
      "Prompt: What are the latest advancements in cancer research ?\n",
      "GPT-2 output:\n",
      "What are the latest advancements in cancer research ? it is not only a matter of time for the development of new therapies , but also for the establishment of new technologies . in the last decade , cancer has been a major public health problem . the incidence rate of cancer in the us is increasing , and the incidence rate of cancer is expected to increase in the next decade . in the us , there are two types of cancer : solid cancers and non - solid cancers ( nc ) ( 1 ) . the most solid cancers , which are considered the second most prevalent cancer , are solid tumors and the second most common cause of cancer mortality . however\n",
      "TOTAL TIME ELAPSED: 17.31s\n",
      "________________________________________________\n",
      "\n",
      "Prompt: What is the impact of diet on heart disease according to recent studies ?\n",
      "GPT-2 output:\n",
      "What is the impact of diet on heart disease according to recent studies ? the main role of dietary supplementation has been the treatment of choice for patients with coronary heart disease ( chd ) . however , a large number of patients have been treated with dietary supplements , which may be harmful for cardiovascular and renal disease . the most common adverse reactions associated with dietary supplementation are cardiovascular ( cvd ) symptoms such as hypertension ( htn ) , diabetes , and hypertension ( htn ) , and renal ( rtn ) , but the effect on renal function is still controversial . several studies have been conducted to find a relationship between diet and cardiovascular ( cvd\n",
      "TOTAL TIME ELAPSED: 16.30s\n",
      "________________________________________________\n",
      "\n",
      "Prompt: What are the usual causes of lung pain ?\n",
      "GPT-2 output:\n",
      "What are the usual causes of lung pain ? in the literature , the causes are mostly attributed to the inflammation of the bronchi , which is caused by bronchial epithelium . the most frequently reported causes of pain are bronchi , bronchial fibroma , and bronchi and pulmonary fibroma . a large number of studies have reported that chronic bronchial inflammation is the most important factor in lung pain . in addition , there is a lack of data about the causes of lung pain . the aim of our study was to compare the results of two studies in patients with chronic lung pain . we included patients aged 40 - 70\n",
      "TOTAL TIME ELAPSED: 17.57s\n"
     ]
    },
    {
     "data": {
      "application/vnd.google.colaboratory.intrinsic+json": {
       "type": "string"
      },
      "text/plain": [
       "'\\nprint(output_specialise0 + \"\\n\")\\nprint(output_specialise1 + \"\\n\")\\nprint(output_specialise2 + \"\\n\")\\n'"
      ]
     },
     "execution_count": 12,
     "metadata": {},
     "output_type": "execute_result"
    }
   ],
   "source": [
    "# Génération de texte avec le modèle spécialisé\n",
    "\n",
    "print(\"Output GPT-2 spécialisé\")\n",
    "i = 0\n",
    "while i < len(prompts):\n",
    "  generate_text(prompts[i])\n",
    "  i+=1"
   ]
  },
  {
   "cell_type": "markdown",
   "metadata": {
    "id": "gMtI8grFelZ3"
   },
   "source": [
    "### Modèle GPT-2 finetuné - 2ème version\n",
    "\n",
    "GPT-2 base, entrainé sur dataset importé de Hugging Face, identique à celle de Tensor Flow"
   ]
  },
  {
   "cell_type": "code",
   "execution_count": 9,
   "metadata": {
    "colab": {
     "base_uri": "https://localhost:8080/"
    },
    "id": "ThczyN-OejxA",
    "outputId": "48e9de83-f463-4e9e-a746-94d562c149bf"
   },
   "outputs": [
    {
     "name": "stdout",
     "output_type": "stream",
     "text": [
      "Output GPT-2 spécialisé\n",
      "________________________________________________\n",
      "\n",
      "Prompt: Cardiac hypertrophy is initiated as an adaptive response to sustained overload but progresses pathologically as heart failure ensues. On this topic, I know that\n",
      "GPT-2 output:\n",
      "Cardiac hypertrophy is initiated as an adaptive response to sustained overload but progresses pathologically as heart failure ensues. On this topic, I know that a number of studies suggest that hypertrophy of adipose tissue ( at ) is the cause of at , and that this is associated with increased risk of coronary events .\n",
      "these findings are supported by the evidence that the metabolic rate ( mr ) is elevated during the first 2 weeks of atherosclerosis and that the mr is elevated in patients with coronary artery disease ( cad ) and that the mr is elevated in patients with non - cad [ 2 , 3 ] .\n",
      "TOTAL TIME ELAPSED: 1.73s\n",
      "________________________________________________\n",
      "\n",
      "Prompt: How does the structure of a multiplex affects the walk applications to real-world airline transportation networks ?\n",
      "GPT-2 output:\n",
      "How does the structure of a multiplex affects the walk applications to real-world airline transportation networks ?\n",
      "one of the main reasons for the lack of a walkway is the lack of a walkway that is capable of moving and moving at a precise speed .\n",
      "the main reason is the fact that the walkway needs an additional arm of a dedicated wheelchair , which may lead the user to a greater risk of falling down .\n",
      "the other reason for a walkway to be capable of moving at a precise speed is the fact that the walkway is designed to allow a person to use the wheelchair for a prolonged period of time and to\n",
      "TOTAL TIME ELAPSED: 1.58s\n",
      "________________________________________________\n",
      "\n",
      "Prompt: Could you explain to me what is the Inherited defect of coagulation factors and PE Inherited defects of fibrinolysis ?\n",
      "GPT-2 output:\n",
      "Could you explain to me what is the Inherited defect of coagulation factors and PE Inherited defects of fibrinolysis ?\n",
      "a 32-year - old man presented with a 2-year history of a painless swelling over right lower extremity of the left knee since 3 years .\n",
      "the swelling had been growing slowly over the previous 3 years , and the patient had been on anti - fibrinolytic medication since the last 2 years .\n",
      "he had been on anti - fibrinolytic medications for the last 2 years . on admission ,\n",
      "the lesion was gradually enlarging over the right\n",
      "TOTAL TIME ELAPSED: 2.13s\n",
      "________________________________________________\n",
      "\n",
      "Prompt: What are the latest advancements in cancer research ?\n",
      "GPT-2 output:\n",
      "What are the latest advancements in cancer research ? \n",
      "  the world health organization ( who ) defines cancer as the \n",
      "                                                                                                      \n",
      "TOTAL TIME ELAPSED: 0.64s\n",
      "________________________________________________\n",
      "\n",
      "Prompt: What is the impact of diet on heart disease according to recent studies ?\n",
      "GPT-2 output:\n",
      "What is the impact of diet on heart disease according to recent studies ?\n",
      "the study of the prevalence and severity of type 2 diabetes mellitus and cardiovascular disease in children and adolescents in the uk has been a long and well - conducted study .\n",
      "the study of the prevalence of type 2 diabetes mellitus and cardiovascular disease in adolescents has been a long and well - conducted study . the study has been reported to have a high prevalence of cardiovascular events , hypertension , diabetes , dyslipidemia , hyperlipidemia , and dyslipidemia in children and adolescents .\n",
      "it has been suggested that type 2 diabetes mellitus and cardiovascular\n",
      "TOTAL TIME ELAPSED: 0.63s\n",
      "________________________________________________\n",
      "\n",
      "Prompt: What are the usual causes of lung pain ?\n",
      "GPT-2 output:\n",
      "What are the usual causes of lung pain ?     \n",
      "it is generally accepted that the main causes are respiratory infection and the respiratory \n",
      " response to the inhalation of aerosols .\n",
      "however , in many cases , the main cause is inhalation of aerosols \n",
      " by inhalation of aerosols by the respiratory response of the respiratory \n",
      " respiratory tract .\n",
      "the respiratory response to inhalation of aerosols causes respiratory pain , and the \n",
      " respiratory response is the main reason for the lung pain .\n",
      "the respiratory response to inhalation of aerosoids is \n",
      " mainly determined by the respiratory reflex of the\n",
      "TOTAL TIME ELAPSED: 1.00s\n",
      "________________________________________________\n",
      "\n",
      "Prompt: \n",
      "GPT-2 output:\n",
      "the term  noninvasive  refers to non - invasive , non - invasive , non - surgical methods for the treatment of patients who are at high risk for infection .\n",
      "noninvasive methods include the use of an invasive approach to treat infection , and the use of a noninvasive approach to treat infection .\n",
      "noninvasive methods include surgical procedures , including surgical resection , radiotherapy , and endoscopic surgery , and noninvasive procedures such as the surgical removal of the spleen and liver .\n",
      "the use of noninvasive procedures in the management of infection is a common indication for the use of invasive techniques .\n",
      "\n",
      "TOTAL TIME ELAPSED: 0.55s\n",
      "________________________________________________\n",
      "\n",
      "Prompt: \n",
      "GPT-2 output:\n",
      "the study was approved by the ethics committee of china ministry of education and science ( mcmh , no .\n",
      "the study was conducted in accordance with the guidelines of the declaration of helsinki ( 2 ) .\n",
      "subjects were selected by the age of 18 - 40 years and the mean age of subjects was 25.4 years .\n",
      "the subjects were divided in two stages : a ) the first group consisted of 2 groups of children with a normal weight , height , and weight distribution ; b ) a second group consisted of 2 groups of children with a normal body shape ; and c ) 2 groups of children with normal body\n",
      "TOTAL TIME ELAPSED: 0.56s\n"
     ]
    }
   ],
   "source": [
    "# Génération de texte avec le modèle spécialisé\n",
    "\n",
    "print(\"Output GPT-2 spécialisé\")\n",
    "i = 0\n",
    "while i < len(prompts):\n",
    "  generate_text(prompts[i])\n",
    "  i+=1"
   ]
  },
  {
   "cell_type": "markdown",
   "metadata": {
    "id": "XAF5A5ADvidy"
   },
   "source": [
    "**Observations**\n",
    "\n",
    "Nous observons certains défauts de génération, tels que lors de la génération avec le prompt \"What are the latest advancements in cancer research ?\" ayant une phrase non complétée.\n",
    "\n",
    "Le prompt \"What are the usual causes of lung pain ?\" semble bien répondre à la question en citant une des causes de douleurs pulmonaires, même si des répétitions peuvent être soulignés.\n",
    "\n",
    "Un constat peut être fait concernant les prompts vides, où le texte généré est très orienté vers ceux du jeu de données, pouvant s'apparenter quasimment à un extrait d'articles scientifiques."
   ]
  },
  {
   "cell_type": "markdown",
   "metadata": {
    "id": "731fVAbLe-NU"
   },
   "source": [
    "### Modèle GPT-2 finetuné - 3ème version\n",
    "\n",
    "GPT-2 base, entrainé en 2 fois (50/50% articles train)sur dataset importé de Hugging Face, avec 3 epochs pour chaque parties entrainés."
   ]
  },
  {
   "cell_type": "code",
   "execution_count": 13,
   "metadata": {
    "colab": {
     "base_uri": "https://localhost:8080/"
    },
    "id": "Bq7flziie9s_",
    "outputId": "b48534b6-b6f1-449e-bbed-ae857e7fd50a"
   },
   "outputs": [
    {
     "name": "stdout",
     "output_type": "stream",
     "text": [
      "Output GPT-2 spécialisé\n",
      "________________________________________________\n",
      "\n",
      "Prompt: Cardiac hypertrophy is initiated as an adaptive response to sustained overload but progresses pathologically as heart failure ensues. On this topic, I know that\n",
      "GPT-2 output:\n",
      "Cardiac hypertrophy is initiated as an adaptive response to sustained overload but progresses pathologically as heart failure ensues. On this topic, I know that the most common cause of heart failure is myocardial infarction ( mi) .\n",
      "it occurs when a large number of myocardial cells die in the event of a cardiac event , and the loss of cells is accompanied by an increase in intracellular calcium concentration .\n",
      "this is a major complication of mi , with the incidence of myocardial infarction ( mi ) increasing with advancing age . in older age , the incidence of mi\n",
      "is about 10 times\n",
      "TOTAL TIME ELAPSED: 0.58s\n",
      "________________________________________________\n",
      "\n",
      "Prompt: How does the structure of a multiplex affects the walk applications to real-world airline transportation networks ?\n",
      "GPT-2 output:\n",
      "How does the structure of a multiplex affects the walk applications to real-world airline transportation networks ?\n",
      "a large number of studies have examined the effect of multiplex on walking performance and have found that multiplex has a negative impact on the ability to perform daily activities .\n",
      "many studies have shown that multiplex is an important factor in the ability of passengers to walk safely .\n",
      "the effects of multiplex on walking have been studied extensively , with many reports indicating that multiplex has a negative effect on ability to walk , particularly for older persons with disabilities . in a recent study ,\n",
      "the effects of multiplex on walking ability were evaluated\n",
      "TOTAL TIME ELAPSED: 0.78s\n",
      "________________________________________________\n",
      "\n",
      "Prompt: Could you explain to me what is the Inherited defect of coagulation factors and PE Inherited defects of fibrinolysis ?\n",
      "GPT-2 output:\n",
      "Could you explain to me what is the Inherited defect of coagulation factors and PE Inherited defects of fibrinolysis ?\n",
      "it is an important issue for the medical field , because it is the most important cause of mortality and the most common cause of cardiovascular morbidity in the world .\n",
      "the coagulative factor is a protein that plays a central role in the regulation of the vascularity .\n",
      "it is a member of a family of proteins known as the interleukin-2 receptor superfamily .\n",
      "it is expressed at the level of the endothelium and is activated at the level of other cells\n",
      "TOTAL TIME ELAPSED: 0.51s\n",
      "________________________________________________\n",
      "\n",
      "Prompt: What are the latest advancements in cancer research ?\n",
      "GPT-2 output:\n",
      "What are the latest advancements in cancer research ? the number of cancer patients is on the rise in the world .\n",
      "there are many new cancers diagnosed in india and in the usa .\n",
      "the most recent report of the international cancer society ( icus ) on cancer in india ( 2008 ) reported that there is a 7.5% increase in the number of cancer cases in 2008 . in india\n",
      ", it is well known that the incidence of cancer in females is higher , but it has been known that in males , it is lower .\n",
      "this has been attributed to differences in tumor stage , tumor stage , and cancer\n",
      "TOTAL TIME ELAPSED: 0.54s\n",
      "________________________________________________\n",
      "\n",
      "Prompt: What is the impact of diet on heart disease according to recent studies ?\n",
      "GPT-2 output:\n",
      "What is the impact of diet on heart disease according to recent studies ? \n",
      "\n",
      "there is evidence that dietary intake of saturated fat and low - saturated fatty acids ( lfas ) \n",
      " increases the risk of coronary heart disease in patients with type 2 diabetes .\n",
      "furthermore , dietary \n",
      " fat and low - saturated fatty acids increase the risk of coronary heart disease in patients with type  2 diabetes .\n",
      "thus , \n",
      " there is growing interest in the role of dietary fat and lfas in the prevention , prevention , and treatment \n",
      " of coronary heart diseases .\n",
      "however , the mechanisms by which dietary factors\n",
      "TOTAL TIME ELAPSED: 0.80s\n",
      "________________________________________________\n",
      "\n",
      "Prompt: What are the usual causes of lung pain ?\n",
      "GPT-2 output:\n",
      "What are the usual causes of lung pain ?\n",
      "the most common cause of lung pain is bronchial asthma , with a lifetime prevalence of 2% .\n",
      "it has been known since the early 1970s that the lung has the ability to respond to environmental stimuli and to maintain its own homeostatic function by controlling the release of inflammatory mediators and other inflammatory mediators .\n",
      "however , the exact mechanisms by which the lung responds to environmental stimuli are still not fully understood , and it has been shown that some environmental factors , including environmental factors and cigarette smoking , can increase the risk of lung disease .\n",
      "the most common environmental factor\n",
      "TOTAL TIME ELAPSED: 0.53s\n",
      "________________________________________________\n",
      "\n",
      "Prompt: \n",
      "GPT-2 output:\n",
      "this study was a prospective observational , multicenter , observational study of the effects of a single oral antithrombin inhibitor , nivolumab , on the clinical course of hcc in patients with type 1 diabetes mellitus ( t1 dm ) .\n",
      "patients with diabetes were recruited from the general practice of the university of michigan medical center , which provides primary care to patients in diabetes care ( www.ucm.ca ) and other diabetes care ( www.diabetes-council.ca ) .\n",
      "patients were excluded if they met criteria for hcc , were not taking any medications or\n",
      "TOTAL TIME ELAPSED: 0.54s\n",
      "________________________________________________\n",
      "\n",
      "Prompt: \n",
      "GPT-2 output:\n",
      "the study was approved by the ethics committees of the university of korea , and the institutional review board of the university hospital korea ( koh ) .\n",
      "the study was approved by the ethics committee of the university hospital koh .\n",
      "the study was conducted on a cohort of patients with type 1 diabetes ( n = 1,964 ) who had undergone endoscopic retrograde cholangiopancreatography ( ercp ) for the past 6 months .\n",
      "all patients underwent ercp with either an endoscopic retrograde cholangiopancreatography ( ercp - e ) or endoscopic retrograde cholang\n",
      "TOTAL TIME ELAPSED: 0.55s\n"
     ]
    }
   ],
   "source": [
    "# Génération de texte avec le modèle spécialisé\n",
    "\n",
    "print(\"Output GPT-2 spécialisé\")\n",
    "i = 0\n",
    "while i < len(prompts):\n",
    "  generate_text(prompts[i])\n",
    "  i+=1"
   ]
  },
  {
   "cell_type": "markdown",
   "metadata": {
    "id": "JlU8riW15rKR"
   },
   "source": [
    "**Observations**\n",
    "\n",
    "Nous observons ici que les résultats sont nettement meilleurs par rapport aux autres modèles.\n",
    "\n",
    "Avec le prompt \"What is the impact of diet on heart disease according to recent studies ?\", le modèle évoque bien certaines causes précises avec des termes techniques tels que \"saturated fat and low - saturated fatty acids ( lfas )\"\n",
    "\n",
    "Nous avons même un cas de génération ressemblant beaucoup à une vraie interaction question-réponse avec \"What are the usual causes of lung pain ?\", donnant comme réponse \"\n",
    "the most common cause of lung pain is bronchial asthma , with a lifetime prevalence of 2%\" (Quelles sont les causes des douleurs pulmonaires ? -> La cause la plus commune de douleur pulmonaire est...)."
   ]
  },
  {
   "cell_type": "markdown",
   "metadata": {
    "id": "mNX_M75ItKvw"
   },
   "source": [
    "---\n",
    "## Test d'évaluation du modèle GPT-2 spécialisé (avec fine-tuning)\n",
    "\n",
    "Finetuné sur le jeu de données d'articles scientifiques."
   ]
  },
  {
   "cell_type": "markdown",
   "metadata": {
    "id": "vSLD69oz0QAR"
   },
   "source": [
    "### Modèle GPT-2 finetuné - 2ème version\n",
    "\n",
    "GPT-2 base, entrainé sur dataset importé de Hugging Face, identique à celle de Tensor Flow"
   ]
  },
  {
   "cell_type": "code",
   "execution_count": 10,
   "metadata": {
    "colab": {
     "base_uri": "https://localhost:8080/"
    },
    "id": "sAZWkydRtD0Q",
    "outputId": "da1c9e48-940b-49ff-b49f-cf844fd8f418"
   },
   "outputs": [
    {
     "name": "stderr",
     "output_type": "stream",
     "text": [
      "WARNING:tensorflow:`evaluate()` received a value for `sample_weight`, but `weighted_metrics` were not provided.  Did you mean to pass metrics to `weighted_metrics` in `compile()`?  If this is intentional you can pass `weighted_metrics=[]` to `compile()` in order to silence this warning.\n"
     ]
    },
    {
     "name": "stdout",
     "output_type": "stream",
     "text": [
      "208/208 [==============================] - 209s 939ms/step - loss: 2.8854 - sparse_categorical_accuracy: 0.4459\n",
      "GPT-2 spécialisé - Validation Loss: 2.885439872741699\n",
      "GPT-2 spécialisé - Validation Accuracy: 0.44592615962028503\n"
     ]
    }
   ],
   "source": [
    "val_features = dataset[\"validation\"][:][\"article\"]\n",
    "\n",
    "# Évaluer le modèle sur les données de validation\n",
    "with tf.device('/device:GPU:0'):\n",
    "  val_loss, val_accuracy = gpt2_lm.evaluate(\n",
    "      x=val_features,\n",
    "      verbose=1\n",
    "  )\n",
    "\n",
    "# Afficher les résultats de l'évaluation\n",
    "print(f\"GPT-2 spécialisé - Validation Loss: {val_loss}\")\n",
    "print(f\"GPT-2 spécialisé - Validation Accuracy: {val_accuracy}\")"
   ]
  },
  {
   "cell_type": "code",
   "execution_count": 11,
   "metadata": {
    "colab": {
     "base_uri": "https://localhost:8080/"
    },
    "id": "dyG3FJChtGXS",
    "outputId": "c7244303-a033-4232-f7c7-87462196b320"
   },
   "outputs": [
    {
     "name": "stderr",
     "output_type": "stream",
     "text": [
      "WARNING:tensorflow:`evaluate()` received a value for `sample_weight`, but `weighted_metrics` were not provided.  Did you mean to pass metrics to `weighted_metrics` in `compile()`?  If this is intentional you can pass `weighted_metrics=[]` to `compile()` in order to silence this warning.\n"
     ]
    },
    {
     "name": "stdout",
     "output_type": "stream",
     "text": [
      "209/209 [==============================] - 207s 977ms/step - loss: 2.8649 - sparse_categorical_accuracy: 0.4483\n",
      "GPT-2 spécialisé - Test Loss: 2.86492657661438\n",
      "GPT-2 spécialisé - Test Accuracy: 0.44825422763824463\n"
     ]
    }
   ],
   "source": [
    "test_features = dataset[\"test\"][:][\"article\"]\n",
    "\n",
    "# Évaluer le modèle sur les données de test\n",
    "with tf.device('/device:GPU:0'):\n",
    "  test_loss, test_accuracy = gpt2_lm.evaluate(\n",
    "      x=test_features,\n",
    "      verbose=1\n",
    "  )\n",
    "\n",
    "# Afficher les résultats de l'évaluation\n",
    "print(f\"GPT-2 spécialisé - Test Loss: {test_loss}\")\n",
    "print(f\"GPT-2 spécialisé - Test Accuracy: {test_accuracy}\")"
   ]
  },
  {
   "cell_type": "markdown",
   "metadata": {
    "id": "Pjdbxi5l0fBk"
   },
   "source": [
    "### Modèle GPT-2 finetuné - 3ème version\n",
    "\n",
    "GPT-2 base, entrainé en 2 fois (50/50% articles train)sur dataset importé de Hugging Face, avec 3 epochs pour chaque parties entrainés."
   ]
  },
  {
   "cell_type": "code",
   "execution_count": 14,
   "metadata": {
    "colab": {
     "base_uri": "https://localhost:8080/"
    },
    "id": "re0F6O5o0hWQ",
    "outputId": "3dde9eae-b9c2-4f55-cd4e-107a41b294f2"
   },
   "outputs": [
    {
     "name": "stderr",
     "output_type": "stream",
     "text": [
      "WARNING:tensorflow:`evaluate()` received a value for `sample_weight`, but `weighted_metrics` were not provided.  Did you mean to pass metrics to `weighted_metrics` in `compile()`?  If this is intentional you can pass `weighted_metrics=[]` to `compile()` in order to silence this warning.\n"
     ]
    },
    {
     "name": "stdout",
     "output_type": "stream",
     "text": [
      "208/208 [==============================] - 201s 949ms/step - loss: 2.7834 - sparse_categorical_accuracy: 0.4607\n",
      "GPT-2 spécialisé - Validation Loss: 2.783418655395508\n",
      "GPT-2 spécialisé - Validation Accuracy: 0.46072784066200256\n"
     ]
    }
   ],
   "source": [
    "val_features = dataset[\"validation\"][:][\"article\"]\n",
    "\n",
    "# Évaluer le modèle sur les données de validation\n",
    "with tf.device('/device:GPU:0'):\n",
    "  val_loss, val_accuracy = gpt2_lm.evaluate(\n",
    "      x=val_features,\n",
    "      verbose=1\n",
    "  )\n",
    "\n",
    "# Afficher les résultats de l'évaluation\n",
    "print(f\"GPT-2 spécialisé - Validation Loss: {val_loss}\")\n",
    "print(f\"GPT-2 spécialisé - Validation Accuracy: {val_accuracy}\")"
   ]
  },
  {
   "cell_type": "code",
   "execution_count": 15,
   "metadata": {
    "colab": {
     "base_uri": "https://localhost:8080/"
    },
    "id": "T4yR8iEy0i_J",
    "outputId": "43b815ad-5a31-4b38-fd70-0855f9a51d86"
   },
   "outputs": [
    {
     "name": "stderr",
     "output_type": "stream",
     "text": [
      "WARNING:tensorflow:`evaluate()` received a value for `sample_weight`, but `weighted_metrics` were not provided.  Did you mean to pass metrics to `weighted_metrics` in `compile()`?  If this is intentional you can pass `weighted_metrics=[]` to `compile()` in order to silence this warning.\n"
     ]
    },
    {
     "name": "stdout",
     "output_type": "stream",
     "text": [
      "209/209 [==============================] - 217s 1s/step - loss: 2.7643 - sparse_categorical_accuracy: 0.4631\n",
      "GPT-2 spécialisé - Test Loss: 2.764336347579956\n",
      "GPT-2 spécialisé - Test Accuracy: 0.4630672335624695\n"
     ]
    }
   ],
   "source": [
    "test_features = dataset[\"test\"][:][\"article\"]\n",
    "\n",
    "# Évaluer le modèle sur les données de test\n",
    "with tf.device('/device:GPU:0'):\n",
    "  test_loss, test_accuracy = gpt2_lm.evaluate(\n",
    "      x=test_features,\n",
    "      verbose=1\n",
    "  )\n",
    "\n",
    "# Afficher les résultats de l'évaluation\n",
    "print(f\"GPT-2 spécialisé - Test Loss: {test_loss}\")\n",
    "print(f\"GPT-2 spécialisé - Test Accuracy: {test_accuracy}\")"
   ]
  },
  {
   "cell_type": "markdown",
   "metadata": {
    "id": "nacIyQvivz_0"
   },
   "source": [
    "---\n",
    "## Observations et remarques concernant la génération de texte\n",
    "\n",
    "On peut remarquer que les réponses du modèle GPT-2 Générique sont vagues, répétitives, et manquent de clarté. Elle ne fournit pas d'informations utiles ou précises sur le sujet. Alors que les réponses modèle GPT-2 Spécialisé sont légèrement plus structurées et semblent se concentrer davantage sur le sujet, bien qu'elle reste encore vague et manque de détails spécifiques.\n",
    "\n",
    "Sur la question des avancées récentes sur le cancer, le générique se concentre sur des statistiques générales plutôt que sur les avancées spécifiques dans la recherche sur le cancer. Elle manque de détails pertinents sur le sujet, alors que le spécialisé mentionne l'évolution des thérapies et des technologies, ce qui est plus pertinent, mais elle ne fournit pas d'exemples concrets ou de détails spécifiques sur les avancées.\n",
    "\n",
    "Sur la question de l'impact de l'alimentation sur les maladies cardiaques, la réponse du générique est contradictoire et peut induire en erreur, en particulier en ce qui concerne les graisses saturées. Alors que la réponse du spécialiste aborde les compléments alimentaires et leurs effets sur les maladies cardiaques de manière plus nuancée, bien qu'elle ne soit pas entièrement claire ou concluante.\n",
    "\n",
    "Sur la question des causes habituelles de la douleur pulmonaire, le générique fournit des informations incorrectes et non pertinentes, telles que la mention du syndrome de mort subite. Le spécialisé se concentre sur des causes plus plausibles telles que l'inflammation bronchique, bien qu'il manque de profondeur dans l'explication.\n",
    "\n",
    "Nous constatons en particulier qu'une génération de texte effectué sur un prompt vide via le modèle spécialisé oriente bien le sujet vers une thématique scientifique / médicale, démontrant que le modèle a bien pris en compte l'entrainement par fine-tuning.\n",
    "\n",
    "En se basant sur les réponses obtenus pour le modèle spécialisé, nous constatons que les réponses\n",
    "\n",
    "Certains défauts peuvent être relevés, tels que l'absence de majuscule en début de phrase ou encore la présence d'espaces avant les signes de ponctuation, rendant les réponses moins lisibles.\n",
    "\n",
    "On peut donc en conclure que le modèle GPT-2 spécialisé semble offrir des réponses légèrement plus structurées et centrées sur les sujet traités dans les articles scientifques que celui générique, avec des termes scientifiques et des explications plus techniques.<br /> Cependant, même dans le cas du modèle spécialisé, les réponses manquent souvent de détails spécifiques et cohérents, de précision et de clarté.<br />\n",
    "Nous pouvons tout de même souligner le fait que les réponses deviennent de plus en plus cohérentes et précises au fur et à mesure que nous optimisons le modèle, et paraissent réellement comme des vrais réponses aux questions. Cela est surtout observable avec le modèle fine-tuné avec GPT-2 base avec 3 epochs, où les réponses sont plus précises, cohérentes et bien construites."
   ]
  },
  {
   "cell_type": "markdown",
   "metadata": {
    "id": "liaF-3wVwOMB"
   },
   "source": [
    "---\n",
    "## Observations et remarques concernant les tests d'évaluation des modèles\n",
    "\n",
    "En effectuant des tests d'évaluation avec le jeu de données d'articles scientifiques, spécifiquement les parties d'évaluation et de test, nous avons pu constaté une augmentation de précision (accuracy) et une diminution en erreurs (loss) entre le modèle GPT-2 par défaut et celui fine-tuné. Cela signifie que le fine-tuning réalisé a bien eu un impact sur les poids du modèle, et les a plus orientés vers les thématiques, le vocabulaire et le style d'écriture des articles scientifiques.\n",
    "\n",
    "- **GPT-2 générique**\n",
    "  - Loss validation : ~3.97\n",
    "  - Loss test : ~3.95\n",
    "  - Accuracy validation : ~0.34 (34%)\n",
    "  - Accuracy test : ~0.34 (34%)\n",
    "- **GPT-2 spécialisé - modèle base avec 1 epochs par entrainement**\n",
    "  - Loss validation : ~2.88\n",
    "  - Loss test : ~2.86\n",
    "  - Accuracy validation : ~0.44 (44%)\n",
    "  - Accuracy test : ~0.45 (45%)\n",
    "- **GPT-2 spécialisé - modèle base avec 3 epochs par entrainement**\n",
    "  - Loss validation : ~2.78\n",
    "  - Loss test : ~2.76\n",
    "  - Accuracy validation : ~0.46 (46%)\n",
    "  - Accuracy test : ~0.46 (46%)\n",
    "\n",
    "On constate un grand écart de précision (~10 % de différence) et de perte/échec (env. 1,10 de différence) entre le modèle générique et les modèles spécialisés. Entre les modèles spécialisés, la différence est moins importante mais reste progressive en qualité.\n",
    "\n",
    "Elle souligne donc l'impact positive du fine-tuning sur le modèle GPT-2, orientant les poids du modèle vers des réponses similaires aux divers articles scientifiques du jeu de données."
   ]
  },
  {
   "cell_type": "markdown",
   "metadata": {
    "id": "iSGxsZD9094-"
   },
   "source": [
    "---\n",
    "## Objectifs pour optimiser le modèle\n",
    "\n",
    "Par la suite, nous envisageons d'optimiser le modèle en essayant d'utiliser des modèles GPT-2 plus performants, avec plus de couches en réseaux de neurones, ainsi que de paramètres. Comme il a été employé dans ce rapport, nous expérimentons et menons plusieurs entrainement différents sur différents niveaux de modèles (gpt2 base, medium, large), et des paramètres différents (différence epochs 1 et 3).\n",
    "\n",
    "A l'avenir, un des objectifs serait de mener des recherches pour améliorer la génération de texte, comme par exemple en évitant les cas de répétition, ou encore la rapidité d'exécution du modèle.\n",
    "\n",
    "Nous étudions certaines pistes, notamment avec le \"Parameter-efficient fine-tuning\" du modèle GPT-2 avec LoRA (Low-Rank Adaptation), qui pourraient réduire le temps d'entrainement et la consommation GPU en conservant la qualité des réponses, ce qui pourrait nous permettre d'envisager des modèles plus importants comme GPT-2 large."
   ]
  }
 ],
 "metadata": {
  "accelerator": "GPU",
  "colab": {
   "collapsed_sections": [
    "C3aEAsgyl8TO"
   ],
   "gpuType": "T4",
   "provenance": []
  },
  "kernelspec": {
   "display_name": "Python 3",
   "language": "python",
   "name": "python3"
  },
  "language_info": {
   "codemirror_mode": {
    "name": "ipython",
    "version": 3
   },
   "file_extension": ".py",
   "mimetype": "text/x-python",
   "name": "python",
   "nbconvert_exporter": "python",
   "pygments_lexer": "ipython3",
   "version": "3.8.8"
  },
  "widgets": {
   "application/vnd.jupyter.widget-state+json": {
    "0188591fbce7422bbe4293a866ea422b": {
     "model_module": "@jupyter-widgets/controls",
     "model_module_version": "1.5.0",
     "model_name": "DescriptionStyleModel",
     "state": {
      "_model_module": "@jupyter-widgets/controls",
      "_model_module_version": "1.5.0",
      "_model_name": "DescriptionStyleModel",
      "_view_count": null,
      "_view_module": "@jupyter-widgets/base",
      "_view_module_version": "1.2.0",
      "_view_name": "StyleView",
      "description_width": ""
     }
    },
    "019c487859074b9bb6ba0e5f0efda203": {
     "model_module": "@jupyter-widgets/base",
     "model_module_version": "1.2.0",
     "model_name": "LayoutModel",
     "state": {
      "_model_module": "@jupyter-widgets/base",
      "_model_module_version": "1.2.0",
      "_model_name": "LayoutModel",
      "_view_count": null,
      "_view_module": "@jupyter-widgets/base",
      "_view_module_version": "1.2.0",
      "_view_name": "LayoutView",
      "align_content": null,
      "align_items": null,
      "align_self": null,
      "border": null,
      "bottom": null,
      "display": null,
      "flex": null,
      "flex_flow": null,
      "grid_area": null,
      "grid_auto_columns": null,
      "grid_auto_flow": null,
      "grid_auto_rows": null,
      "grid_column": null,
      "grid_gap": null,
      "grid_row": null,
      "grid_template_areas": null,
      "grid_template_columns": null,
      "grid_template_rows": null,
      "height": null,
      "justify_content": null,
      "justify_items": null,
      "left": null,
      "margin": null,
      "max_height": null,
      "max_width": null,
      "min_height": null,
      "min_width": null,
      "object_fit": null,
      "object_position": null,
      "order": null,
      "overflow": null,
      "overflow_x": null,
      "overflow_y": null,
      "padding": null,
      "right": null,
      "top": null,
      "visibility": null,
      "width": null
     }
    },
    "051950bdb8534e6f922e04cfd983ed8b": {
     "model_module": "@jupyter-widgets/base",
     "model_module_version": "1.2.0",
     "model_name": "LayoutModel",
     "state": {
      "_model_module": "@jupyter-widgets/base",
      "_model_module_version": "1.2.0",
      "_model_name": "LayoutModel",
      "_view_count": null,
      "_view_module": "@jupyter-widgets/base",
      "_view_module_version": "1.2.0",
      "_view_name": "LayoutView",
      "align_content": null,
      "align_items": null,
      "align_self": null,
      "border": null,
      "bottom": null,
      "display": null,
      "flex": null,
      "flex_flow": null,
      "grid_area": null,
      "grid_auto_columns": null,
      "grid_auto_flow": null,
      "grid_auto_rows": null,
      "grid_column": null,
      "grid_gap": null,
      "grid_row": null,
      "grid_template_areas": null,
      "grid_template_columns": null,
      "grid_template_rows": null,
      "height": null,
      "justify_content": null,
      "justify_items": null,
      "left": null,
      "margin": null,
      "max_height": null,
      "max_width": null,
      "min_height": null,
      "min_width": null,
      "object_fit": null,
      "object_position": null,
      "order": null,
      "overflow": null,
      "overflow_x": null,
      "overflow_y": null,
      "padding": null,
      "right": null,
      "top": null,
      "visibility": null,
      "width": null
     }
    },
    "062bb99a38e746e482c683120eea6167": {
     "model_module": "@jupyter-widgets/controls",
     "model_module_version": "1.5.0",
     "model_name": "HTMLModel",
     "state": {
      "_dom_classes": [],
      "_model_module": "@jupyter-widgets/controls",
      "_model_module_version": "1.5.0",
      "_model_name": "HTMLModel",
      "_view_count": null,
      "_view_module": "@jupyter-widgets/controls",
      "_view_module_version": "1.5.0",
      "_view_name": "HTMLView",
      "description": "",
      "description_tooltip": null,
      "layout": "IPY_MODEL_bd8d0339b7c140dc836c294c43553a05",
      "placeholder": "​",
      "style": "IPY_MODEL_6be6c06324394c71baf20ed315c1616d",
      "value": "Downloading readme: 100%"
     }
    },
    "091dd48eb9cd4fec89607dbf2e61a515": {
     "model_module": "@jupyter-widgets/controls",
     "model_module_version": "1.5.0",
     "model_name": "ProgressStyleModel",
     "state": {
      "_model_module": "@jupyter-widgets/controls",
      "_model_module_version": "1.5.0",
      "_model_name": "ProgressStyleModel",
      "_view_count": null,
      "_view_module": "@jupyter-widgets/base",
      "_view_module_version": "1.2.0",
      "_view_name": "StyleView",
      "bar_color": null,
      "description_width": ""
     }
    },
    "0f6971e62c504d689a2f3aee04565682": {
     "model_module": "@jupyter-widgets/controls",
     "model_module_version": "1.5.0",
     "model_name": "HBoxModel",
     "state": {
      "_dom_classes": [],
      "_model_module": "@jupyter-widgets/controls",
      "_model_module_version": "1.5.0",
      "_model_name": "HBoxModel",
      "_view_count": null,
      "_view_module": "@jupyter-widgets/controls",
      "_view_module_version": "1.5.0",
      "_view_name": "HBoxView",
      "box_style": "",
      "children": [
       "IPY_MODEL_98a8a7671db94a38b58eed72193755d2",
       "IPY_MODEL_77d637319558427bad5628ef5509415a",
       "IPY_MODEL_fe8e337559ac48168b5fc5c05d981589"
      ],
      "layout": "IPY_MODEL_aaac76217e474fe98c512a09c6cdd191"
     }
    },
    "177287a0eac24febb60a953e5e14ea0a": {
     "model_module": "@jupyter-widgets/controls",
     "model_module_version": "1.5.0",
     "model_name": "ProgressStyleModel",
     "state": {
      "_model_module": "@jupyter-widgets/controls",
      "_model_module_version": "1.5.0",
      "_model_name": "ProgressStyleModel",
      "_view_count": null,
      "_view_module": "@jupyter-widgets/base",
      "_view_module_version": "1.2.0",
      "_view_name": "StyleView",
      "bar_color": null,
      "description_width": ""
     }
    },
    "17f428e66bde4acc89db0b9bc1049a2f": {
     "model_module": "@jupyter-widgets/controls",
     "model_module_version": "1.5.0",
     "model_name": "HBoxModel",
     "state": {
      "_dom_classes": [],
      "_model_module": "@jupyter-widgets/controls",
      "_model_module_version": "1.5.0",
      "_model_name": "HBoxModel",
      "_view_count": null,
      "_view_module": "@jupyter-widgets/controls",
      "_view_module_version": "1.5.0",
      "_view_name": "HBoxView",
      "box_style": "",
      "children": [
       "IPY_MODEL_d143e4e09cb04ad2b66959898bd37516",
       "IPY_MODEL_e2d7fe2d6cd644f7b2c54adfc2ced93f",
       "IPY_MODEL_daa36e432f80464dac1aad3c5071508d"
      ],
      "layout": "IPY_MODEL_8e5ffa24d34f46528e9d588e8183271e"
     }
    },
    "181de2038d2f4c1995d4e25d9f5a1524": {
     "model_module": "@jupyter-widgets/base",
     "model_module_version": "1.2.0",
     "model_name": "LayoutModel",
     "state": {
      "_model_module": "@jupyter-widgets/base",
      "_model_module_version": "1.2.0",
      "_model_name": "LayoutModel",
      "_view_count": null,
      "_view_module": "@jupyter-widgets/base",
      "_view_module_version": "1.2.0",
      "_view_name": "LayoutView",
      "align_content": null,
      "align_items": null,
      "align_self": null,
      "border": null,
      "bottom": null,
      "display": null,
      "flex": null,
      "flex_flow": null,
      "grid_area": null,
      "grid_auto_columns": null,
      "grid_auto_flow": null,
      "grid_auto_rows": null,
      "grid_column": null,
      "grid_gap": null,
      "grid_row": null,
      "grid_template_areas": null,
      "grid_template_columns": null,
      "grid_template_rows": null,
      "height": null,
      "justify_content": null,
      "justify_items": null,
      "left": null,
      "margin": null,
      "max_height": null,
      "max_width": null,
      "min_height": null,
      "min_width": null,
      "object_fit": null,
      "object_position": null,
      "order": null,
      "overflow": null,
      "overflow_x": null,
      "overflow_y": null,
      "padding": null,
      "right": null,
      "top": null,
      "visibility": null,
      "width": null
     }
    },
    "199b389f4b97488d8c2ee8ebf135a653": {
     "model_module": "@jupyter-widgets/controls",
     "model_module_version": "1.5.0",
     "model_name": "DescriptionStyleModel",
     "state": {
      "_model_module": "@jupyter-widgets/controls",
      "_model_module_version": "1.5.0",
      "_model_name": "DescriptionStyleModel",
      "_view_count": null,
      "_view_module": "@jupyter-widgets/base",
      "_view_module_version": "1.2.0",
      "_view_name": "StyleView",
      "description_width": ""
     }
    },
    "2297341b7b1948d684facde240e753c2": {
     "model_module": "@jupyter-widgets/controls",
     "model_module_version": "1.5.0",
     "model_name": "FloatProgressModel",
     "state": {
      "_dom_classes": [],
      "_model_module": "@jupyter-widgets/controls",
      "_model_module_version": "1.5.0",
      "_model_name": "FloatProgressModel",
      "_view_count": null,
      "_view_module": "@jupyter-widgets/controls",
      "_view_module_version": "1.5.0",
      "_view_name": "ProgressView",
      "bar_style": "success",
      "description": "",
      "description_tooltip": null,
      "layout": "IPY_MODEL_e6eb8b846f604cfaa68bc34513a6a4d3",
      "max": 6658,
      "min": 0,
      "orientation": "horizontal",
      "style": "IPY_MODEL_e60fa4ef56e94c4ba3ed5c85fbc7d9c6",
      "value": 6658
     }
    },
    "299e96c2ea96428ea1db90f38ebd9cc8": {
     "model_module": "@jupyter-widgets/base",
     "model_module_version": "1.2.0",
     "model_name": "LayoutModel",
     "state": {
      "_model_module": "@jupyter-widgets/base",
      "_model_module_version": "1.2.0",
      "_model_name": "LayoutModel",
      "_view_count": null,
      "_view_module": "@jupyter-widgets/base",
      "_view_module_version": "1.2.0",
      "_view_name": "LayoutView",
      "align_content": null,
      "align_items": null,
      "align_self": null,
      "border": null,
      "bottom": null,
      "display": null,
      "flex": null,
      "flex_flow": null,
      "grid_area": null,
      "grid_auto_columns": null,
      "grid_auto_flow": null,
      "grid_auto_rows": null,
      "grid_column": null,
      "grid_gap": null,
      "grid_row": null,
      "grid_template_areas": null,
      "grid_template_columns": null,
      "grid_template_rows": null,
      "height": null,
      "justify_content": null,
      "justify_items": null,
      "left": null,
      "margin": null,
      "max_height": null,
      "max_width": null,
      "min_height": null,
      "min_width": null,
      "object_fit": null,
      "object_position": null,
      "order": null,
      "overflow": null,
      "overflow_x": null,
      "overflow_y": null,
      "padding": null,
      "right": null,
      "top": null,
      "visibility": null,
      "width": null
     }
    },
    "2ab8ac58fdb24f3abf839b6d20462356": {
     "model_module": "@jupyter-widgets/controls",
     "model_module_version": "1.5.0",
     "model_name": "HTMLModel",
     "state": {
      "_dom_classes": [],
      "_model_module": "@jupyter-widgets/controls",
      "_model_module_version": "1.5.0",
      "_model_name": "HTMLModel",
      "_view_count": null,
      "_view_module": "@jupyter-widgets/controls",
      "_view_module_version": "1.5.0",
      "_view_name": "HTMLView",
      "description": "",
      "description_tooltip": null,
      "layout": "IPY_MODEL_ba1d388b2ca44ec4aec33f68ca91351b",
      "placeholder": "​",
      "style": "IPY_MODEL_b56a55088936411eb6dd45dfd1b5d6cf",
      "value": " 880M/880M [00:21&lt;00:00, 52.4MB/s]"
     }
    },
    "30087733e5fc41ffa109833d2187cacb": {
     "model_module": "@jupyter-widgets/controls",
     "model_module_version": "1.5.0",
     "model_name": "HBoxModel",
     "state": {
      "_dom_classes": [],
      "_model_module": "@jupyter-widgets/controls",
      "_model_module_version": "1.5.0",
      "_model_name": "HBoxModel",
      "_view_count": null,
      "_view_module": "@jupyter-widgets/controls",
      "_view_module_version": "1.5.0",
      "_view_name": "HBoxView",
      "box_style": "",
      "children": [
       "IPY_MODEL_38ea513fb302417984ecb7ab015aa7a6",
       "IPY_MODEL_2297341b7b1948d684facde240e753c2",
       "IPY_MODEL_818883b93d124f0a978971e33186a417"
      ],
      "layout": "IPY_MODEL_df9e665ec3434346b11de4b50c977d61"
     }
    },
    "32309d255107466a96ddbf52a4d44e55": {
     "model_module": "@jupyter-widgets/base",
     "model_module_version": "1.2.0",
     "model_name": "LayoutModel",
     "state": {
      "_model_module": "@jupyter-widgets/base",
      "_model_module_version": "1.2.0",
      "_model_name": "LayoutModel",
      "_view_count": null,
      "_view_module": "@jupyter-widgets/base",
      "_view_module_version": "1.2.0",
      "_view_name": "LayoutView",
      "align_content": null,
      "align_items": null,
      "align_self": null,
      "border": null,
      "bottom": null,
      "display": null,
      "flex": null,
      "flex_flow": null,
      "grid_area": null,
      "grid_auto_columns": null,
      "grid_auto_flow": null,
      "grid_auto_rows": null,
      "grid_column": null,
      "grid_gap": null,
      "grid_row": null,
      "grid_template_areas": null,
      "grid_template_columns": null,
      "grid_template_rows": null,
      "height": null,
      "justify_content": null,
      "justify_items": null,
      "left": null,
      "margin": null,
      "max_height": null,
      "max_width": null,
      "min_height": null,
      "min_width": null,
      "object_fit": null,
      "object_position": null,
      "order": null,
      "overflow": null,
      "overflow_x": null,
      "overflow_y": null,
      "padding": null,
      "right": null,
      "top": null,
      "visibility": null,
      "width": null
     }
    },
    "34efaaa4c79b42e8be6b5677d55a42eb": {
     "model_module": "@jupyter-widgets/base",
     "model_module_version": "1.2.0",
     "model_name": "LayoutModel",
     "state": {
      "_model_module": "@jupyter-widgets/base",
      "_model_module_version": "1.2.0",
      "_model_name": "LayoutModel",
      "_view_count": null,
      "_view_module": "@jupyter-widgets/base",
      "_view_module_version": "1.2.0",
      "_view_name": "LayoutView",
      "align_content": null,
      "align_items": null,
      "align_self": null,
      "border": null,
      "bottom": null,
      "display": null,
      "flex": null,
      "flex_flow": null,
      "grid_area": null,
      "grid_auto_columns": null,
      "grid_auto_flow": null,
      "grid_auto_rows": null,
      "grid_column": null,
      "grid_gap": null,
      "grid_row": null,
      "grid_template_areas": null,
      "grid_template_columns": null,
      "grid_template_rows": null,
      "height": null,
      "justify_content": null,
      "justify_items": null,
      "left": null,
      "margin": null,
      "max_height": null,
      "max_width": null,
      "min_height": null,
      "min_width": null,
      "object_fit": null,
      "object_position": null,
      "order": null,
      "overflow": null,
      "overflow_x": null,
      "overflow_y": null,
      "padding": null,
      "right": null,
      "top": null,
      "visibility": null,
      "width": null
     }
    },
    "38ea513fb302417984ecb7ab015aa7a6": {
     "model_module": "@jupyter-widgets/controls",
     "model_module_version": "1.5.0",
     "model_name": "HTMLModel",
     "state": {
      "_dom_classes": [],
      "_model_module": "@jupyter-widgets/controls",
      "_model_module_version": "1.5.0",
      "_model_name": "HTMLModel",
      "_view_count": null,
      "_view_module": "@jupyter-widgets/controls",
      "_view_module_version": "1.5.0",
      "_view_name": "HTMLView",
      "description": "",
      "description_tooltip": null,
      "layout": "IPY_MODEL_5a4a7b69ed574037822d240e41ad3d8f",
      "placeholder": "​",
      "style": "IPY_MODEL_e40c76ad501b47299b160a67e53106a1",
      "value": "Generating test split: 100%"
     }
    },
    "3ae2ed4a03fb4ae597acc96628499c54": {
     "model_module": "@jupyter-widgets/controls",
     "model_module_version": "1.5.0",
     "model_name": "DescriptionStyleModel",
     "state": {
      "_model_module": "@jupyter-widgets/controls",
      "_model_module_version": "1.5.0",
      "_model_name": "DescriptionStyleModel",
      "_view_count": null,
      "_view_module": "@jupyter-widgets/base",
      "_view_module_version": "1.2.0",
      "_view_name": "StyleView",
      "description_width": ""
     }
    },
    "43dfa1ae39e04b2fbac95c8e32902fb7": {
     "model_module": "@jupyter-widgets/controls",
     "model_module_version": "1.5.0",
     "model_name": "ProgressStyleModel",
     "state": {
      "_model_module": "@jupyter-widgets/controls",
      "_model_module_version": "1.5.0",
      "_model_name": "ProgressStyleModel",
      "_view_count": null,
      "_view_module": "@jupyter-widgets/base",
      "_view_module_version": "1.2.0",
      "_view_name": "StyleView",
      "bar_color": null,
      "description_width": ""
     }
    },
    "4631201609d64cc29d8d87a796f42fd7": {
     "model_module": "@jupyter-widgets/controls",
     "model_module_version": "1.5.0",
     "model_name": "ProgressStyleModel",
     "state": {
      "_model_module": "@jupyter-widgets/controls",
      "_model_module_version": "1.5.0",
      "_model_name": "ProgressStyleModel",
      "_view_count": null,
      "_view_module": "@jupyter-widgets/base",
      "_view_module_version": "1.2.0",
      "_view_name": "StyleView",
      "bar_color": null,
      "description_width": ""
     }
    },
    "48d455cd5df749eb9bbe79dc1fd9c4b5": {
     "model_module": "@jupyter-widgets/controls",
     "model_module_version": "1.5.0",
     "model_name": "HBoxModel",
     "state": {
      "_dom_classes": [],
      "_model_module": "@jupyter-widgets/controls",
      "_model_module_version": "1.5.0",
      "_model_name": "HBoxModel",
      "_view_count": null,
      "_view_module": "@jupyter-widgets/controls",
      "_view_module_version": "1.5.0",
      "_view_name": "HBoxView",
      "box_style": "",
      "children": [
       "IPY_MODEL_062bb99a38e746e482c683120eea6167",
       "IPY_MODEL_c6caf747703f48ca8ff43fbe6d0f09cc",
       "IPY_MODEL_76f8e561a86e4916bbd819a67cd9a76e"
      ],
      "layout": "IPY_MODEL_8dc6039e647b4e4d8b60cbffc431ce7a"
     }
    },
    "4a284485ee214953bab8907b0f31cbca": {
     "model_module": "@jupyter-widgets/base",
     "model_module_version": "1.2.0",
     "model_name": "LayoutModel",
     "state": {
      "_model_module": "@jupyter-widgets/base",
      "_model_module_version": "1.2.0",
      "_model_name": "LayoutModel",
      "_view_count": null,
      "_view_module": "@jupyter-widgets/base",
      "_view_module_version": "1.2.0",
      "_view_name": "LayoutView",
      "align_content": null,
      "align_items": null,
      "align_self": null,
      "border": null,
      "bottom": null,
      "display": null,
      "flex": null,
      "flex_flow": null,
      "grid_area": null,
      "grid_auto_columns": null,
      "grid_auto_flow": null,
      "grid_auto_rows": null,
      "grid_column": null,
      "grid_gap": null,
      "grid_row": null,
      "grid_template_areas": null,
      "grid_template_columns": null,
      "grid_template_rows": null,
      "height": null,
      "justify_content": null,
      "justify_items": null,
      "left": null,
      "margin": null,
      "max_height": null,
      "max_width": null,
      "min_height": null,
      "min_width": null,
      "object_fit": null,
      "object_position": null,
      "order": null,
      "overflow": null,
      "overflow_x": null,
      "overflow_y": null,
      "padding": null,
      "right": null,
      "top": null,
      "visibility": null,
      "width": null
     }
    },
    "4ca2a2907690479582c03514cfb2673f": {
     "model_module": "@jupyter-widgets/base",
     "model_module_version": "1.2.0",
     "model_name": "LayoutModel",
     "state": {
      "_model_module": "@jupyter-widgets/base",
      "_model_module_version": "1.2.0",
      "_model_name": "LayoutModel",
      "_view_count": null,
      "_view_module": "@jupyter-widgets/base",
      "_view_module_version": "1.2.0",
      "_view_name": "LayoutView",
      "align_content": null,
      "align_items": null,
      "align_self": null,
      "border": null,
      "bottom": null,
      "display": null,
      "flex": null,
      "flex_flow": null,
      "grid_area": null,
      "grid_auto_columns": null,
      "grid_auto_flow": null,
      "grid_auto_rows": null,
      "grid_column": null,
      "grid_gap": null,
      "grid_row": null,
      "grid_template_areas": null,
      "grid_template_columns": null,
      "grid_template_rows": null,
      "height": null,
      "justify_content": null,
      "justify_items": null,
      "left": null,
      "margin": null,
      "max_height": null,
      "max_width": null,
      "min_height": null,
      "min_width": null,
      "object_fit": null,
      "object_position": null,
      "order": null,
      "overflow": null,
      "overflow_x": null,
      "overflow_y": null,
      "padding": null,
      "right": null,
      "top": null,
      "visibility": null,
      "width": null
     }
    },
    "51714ef71eee46bfa46379c2bedeeb60": {
     "model_module": "@jupyter-widgets/controls",
     "model_module_version": "1.5.0",
     "model_name": "ProgressStyleModel",
     "state": {
      "_model_module": "@jupyter-widgets/controls",
      "_model_module_version": "1.5.0",
      "_model_name": "ProgressStyleModel",
      "_view_count": null,
      "_view_module": "@jupyter-widgets/base",
      "_view_module_version": "1.2.0",
      "_view_name": "StyleView",
      "bar_color": null,
      "description_width": ""
     }
    },
    "5664e9853b014b74b52da4305e8e701d": {
     "model_module": "@jupyter-widgets/controls",
     "model_module_version": "1.5.0",
     "model_name": "HBoxModel",
     "state": {
      "_dom_classes": [],
      "_model_module": "@jupyter-widgets/controls",
      "_model_module_version": "1.5.0",
      "_model_name": "HBoxModel",
      "_view_count": null,
      "_view_module": "@jupyter-widgets/controls",
      "_view_module_version": "1.5.0",
      "_view_name": "HBoxView",
      "box_style": "",
      "children": [
       "IPY_MODEL_6279e9c74ed24fa4ba21ef7350c2dc70",
       "IPY_MODEL_6905b28f44a844479de471f51d66c54e",
       "IPY_MODEL_5e8a66977fc145a781fdd1af4412ab18"
      ],
      "layout": "IPY_MODEL_f1e09858d311415ca1e9475b0d7c34da"
     }
    },
    "5a4a7b69ed574037822d240e41ad3d8f": {
     "model_module": "@jupyter-widgets/base",
     "model_module_version": "1.2.0",
     "model_name": "LayoutModel",
     "state": {
      "_model_module": "@jupyter-widgets/base",
      "_model_module_version": "1.2.0",
      "_model_name": "LayoutModel",
      "_view_count": null,
      "_view_module": "@jupyter-widgets/base",
      "_view_module_version": "1.2.0",
      "_view_name": "LayoutView",
      "align_content": null,
      "align_items": null,
      "align_self": null,
      "border": null,
      "bottom": null,
      "display": null,
      "flex": null,
      "flex_flow": null,
      "grid_area": null,
      "grid_auto_columns": null,
      "grid_auto_flow": null,
      "grid_auto_rows": null,
      "grid_column": null,
      "grid_gap": null,
      "grid_row": null,
      "grid_template_areas": null,
      "grid_template_columns": null,
      "grid_template_rows": null,
      "height": null,
      "justify_content": null,
      "justify_items": null,
      "left": null,
      "margin": null,
      "max_height": null,
      "max_width": null,
      "min_height": null,
      "min_width": null,
      "object_fit": null,
      "object_position": null,
      "order": null,
      "overflow": null,
      "overflow_x": null,
      "overflow_y": null,
      "padding": null,
      "right": null,
      "top": null,
      "visibility": null,
      "width": null
     }
    },
    "5e8a66977fc145a781fdd1af4412ab18": {
     "model_module": "@jupyter-widgets/controls",
     "model_module_version": "1.5.0",
     "model_name": "HTMLModel",
     "state": {
      "_dom_classes": [],
      "_model_module": "@jupyter-widgets/controls",
      "_model_module_version": "1.5.0",
      "_model_name": "HTMLModel",
      "_view_count": null,
      "_view_module": "@jupyter-widgets/controls",
      "_view_module_version": "1.5.0",
      "_view_name": "HTMLView",
      "description": "",
      "description_tooltip": null,
      "layout": "IPY_MODEL_019c487859074b9bb6ba0e5f0efda203",
      "placeholder": "​",
      "style": "IPY_MODEL_62671da4038044ffa8b6809609837616",
      "value": " 5.35k/5.35k [00:00&lt;00:00, 291kB/s]"
     }
    },
    "62671da4038044ffa8b6809609837616": {
     "model_module": "@jupyter-widgets/controls",
     "model_module_version": "1.5.0",
     "model_name": "DescriptionStyleModel",
     "state": {
      "_model_module": "@jupyter-widgets/controls",
      "_model_module_version": "1.5.0",
      "_model_name": "DescriptionStyleModel",
      "_view_count": null,
      "_view_module": "@jupyter-widgets/base",
      "_view_module_version": "1.2.0",
      "_view_name": "StyleView",
      "description_width": ""
     }
    },
    "6279e9c74ed24fa4ba21ef7350c2dc70": {
     "model_module": "@jupyter-widgets/controls",
     "model_module_version": "1.5.0",
     "model_name": "HTMLModel",
     "state": {
      "_dom_classes": [],
      "_model_module": "@jupyter-widgets/controls",
      "_model_module_version": "1.5.0",
      "_model_name": "HTMLModel",
      "_view_count": null,
      "_view_module": "@jupyter-widgets/controls",
      "_view_module_version": "1.5.0",
      "_view_name": "HTMLView",
      "description": "",
      "description_tooltip": null,
      "layout": "IPY_MODEL_4ca2a2907690479582c03514cfb2673f",
      "placeholder": "​",
      "style": "IPY_MODEL_d75638783f2246a0a0689981e530e4cb",
      "value": "Downloading builder script: 100%"
     }
    },
    "63f50a8f73e34368a5009846ac395bbb": {
     "model_module": "@jupyter-widgets/controls",
     "model_module_version": "1.5.0",
     "model_name": "DescriptionStyleModel",
     "state": {
      "_model_module": "@jupyter-widgets/controls",
      "_model_module_version": "1.5.0",
      "_model_name": "DescriptionStyleModel",
      "_view_count": null,
      "_view_module": "@jupyter-widgets/base",
      "_view_module_version": "1.2.0",
      "_view_name": "StyleView",
      "description_width": ""
     }
    },
    "6905b28f44a844479de471f51d66c54e": {
     "model_module": "@jupyter-widgets/controls",
     "model_module_version": "1.5.0",
     "model_name": "FloatProgressModel",
     "state": {
      "_dom_classes": [],
      "_model_module": "@jupyter-widgets/controls",
      "_model_module_version": "1.5.0",
      "_model_name": "FloatProgressModel",
      "_view_count": null,
      "_view_module": "@jupyter-widgets/controls",
      "_view_module_version": "1.5.0",
      "_view_name": "ProgressView",
      "bar_style": "success",
      "description": "",
      "description_tooltip": null,
      "layout": "IPY_MODEL_d85a99409fff4b27b2aa0c3d5b168316",
      "max": 5348,
      "min": 0,
      "orientation": "horizontal",
      "style": "IPY_MODEL_43dfa1ae39e04b2fbac95c8e32902fb7",
      "value": 5348
     }
    },
    "6abc30c2f9514199b0faa1e33ee97648": {
     "model_module": "@jupyter-widgets/controls",
     "model_module_version": "1.5.0",
     "model_name": "HTMLModel",
     "state": {
      "_dom_classes": [],
      "_model_module": "@jupyter-widgets/controls",
      "_model_module_version": "1.5.0",
      "_model_name": "HTMLModel",
      "_view_count": null,
      "_view_module": "@jupyter-widgets/controls",
      "_view_module_version": "1.5.0",
      "_view_name": "HTMLView",
      "description": "",
      "description_tooltip": null,
      "layout": "IPY_MODEL_4a284485ee214953bab8907b0f31cbca",
      "placeholder": "​",
      "style": "IPY_MODEL_63f50a8f73e34368a5009846ac395bbb",
      "value": "Generating validation split: 100%"
     }
    },
    "6be6c06324394c71baf20ed315c1616d": {
     "model_module": "@jupyter-widgets/controls",
     "model_module_version": "1.5.0",
     "model_name": "DescriptionStyleModel",
     "state": {
      "_model_module": "@jupyter-widgets/controls",
      "_model_module_version": "1.5.0",
      "_model_name": "DescriptionStyleModel",
      "_view_count": null,
      "_view_module": "@jupyter-widgets/base",
      "_view_module_version": "1.2.0",
      "_view_name": "StyleView",
      "description_width": ""
     }
    },
    "6eb66e592a6c45eca8c467541239d7c0": {
     "model_module": "@jupyter-widgets/base",
     "model_module_version": "1.2.0",
     "model_name": "LayoutModel",
     "state": {
      "_model_module": "@jupyter-widgets/base",
      "_model_module_version": "1.2.0",
      "_model_name": "LayoutModel",
      "_view_count": null,
      "_view_module": "@jupyter-widgets/base",
      "_view_module_version": "1.2.0",
      "_view_name": "LayoutView",
      "align_content": null,
      "align_items": null,
      "align_self": null,
      "border": null,
      "bottom": null,
      "display": null,
      "flex": null,
      "flex_flow": null,
      "grid_area": null,
      "grid_auto_columns": null,
      "grid_auto_flow": null,
      "grid_auto_rows": null,
      "grid_column": null,
      "grid_gap": null,
      "grid_row": null,
      "grid_template_areas": null,
      "grid_template_columns": null,
      "grid_template_rows": null,
      "height": null,
      "justify_content": null,
      "justify_items": null,
      "left": null,
      "margin": null,
      "max_height": null,
      "max_width": null,
      "min_height": null,
      "min_width": null,
      "object_fit": null,
      "object_position": null,
      "order": null,
      "overflow": null,
      "overflow_x": null,
      "overflow_y": null,
      "padding": null,
      "right": null,
      "top": null,
      "visibility": null,
      "width": null
     }
    },
    "702316d6ad0d4d11bd8fa08eee9add6a": {
     "model_module": "@jupyter-widgets/controls",
     "model_module_version": "1.5.0",
     "model_name": "DescriptionStyleModel",
     "state": {
      "_model_module": "@jupyter-widgets/controls",
      "_model_module_version": "1.5.0",
      "_model_name": "DescriptionStyleModel",
      "_view_count": null,
      "_view_module": "@jupyter-widgets/base",
      "_view_module_version": "1.2.0",
      "_view_name": "StyleView",
      "description_width": ""
     }
    },
    "7040a28f505249b5a74f0866f03363ae": {
     "model_module": "@jupyter-widgets/controls",
     "model_module_version": "1.5.0",
     "model_name": "FloatProgressModel",
     "state": {
      "_dom_classes": [],
      "_model_module": "@jupyter-widgets/controls",
      "_model_module_version": "1.5.0",
      "_model_name": "FloatProgressModel",
      "_view_count": null,
      "_view_module": "@jupyter-widgets/controls",
      "_view_module_version": "1.5.0",
      "_view_name": "ProgressView",
      "bar_style": "success",
      "description": "",
      "description_tooltip": null,
      "layout": "IPY_MODEL_7181e5a0b5ea46a69d9051a942eddbe1",
      "max": 6633,
      "min": 0,
      "orientation": "horizontal",
      "style": "IPY_MODEL_f5f1a48feae94207ad7272e9bc1b4209",
      "value": 6633
     }
    },
    "7181e5a0b5ea46a69d9051a942eddbe1": {
     "model_module": "@jupyter-widgets/base",
     "model_module_version": "1.2.0",
     "model_name": "LayoutModel",
     "state": {
      "_model_module": "@jupyter-widgets/base",
      "_model_module_version": "1.2.0",
      "_model_name": "LayoutModel",
      "_view_count": null,
      "_view_module": "@jupyter-widgets/base",
      "_view_module_version": "1.2.0",
      "_view_name": "LayoutView",
      "align_content": null,
      "align_items": null,
      "align_self": null,
      "border": null,
      "bottom": null,
      "display": null,
      "flex": null,
      "flex_flow": null,
      "grid_area": null,
      "grid_auto_columns": null,
      "grid_auto_flow": null,
      "grid_auto_rows": null,
      "grid_column": null,
      "grid_gap": null,
      "grid_row": null,
      "grid_template_areas": null,
      "grid_template_columns": null,
      "grid_template_rows": null,
      "height": null,
      "justify_content": null,
      "justify_items": null,
      "left": null,
      "margin": null,
      "max_height": null,
      "max_width": null,
      "min_height": null,
      "min_width": null,
      "object_fit": null,
      "object_position": null,
      "order": null,
      "overflow": null,
      "overflow_x": null,
      "overflow_y": null,
      "padding": null,
      "right": null,
      "top": null,
      "visibility": null,
      "width": null
     }
    },
    "729017073c2c4a2f86e45375878848b1": {
     "model_module": "@jupyter-widgets/controls",
     "model_module_version": "1.5.0",
     "model_name": "HBoxModel",
     "state": {
      "_dom_classes": [],
      "_model_module": "@jupyter-widgets/controls",
      "_model_module_version": "1.5.0",
      "_model_name": "HBoxModel",
      "_view_count": null,
      "_view_module": "@jupyter-widgets/controls",
      "_view_module_version": "1.5.0",
      "_view_name": "HBoxView",
      "box_style": "",
      "children": [
       "IPY_MODEL_6abc30c2f9514199b0faa1e33ee97648",
       "IPY_MODEL_7040a28f505249b5a74f0866f03363ae",
       "IPY_MODEL_a52f4ab858034018b4829c0f28c551e7"
      ],
      "layout": "IPY_MODEL_32309d255107466a96ddbf52a4d44e55"
     }
    },
    "748a585b065f4a358ff3e57229e8f3f1": {
     "model_module": "@jupyter-widgets/controls",
     "model_module_version": "1.5.0",
     "model_name": "HBoxModel",
     "state": {
      "_dom_classes": [],
      "_model_module": "@jupyter-widgets/controls",
      "_model_module_version": "1.5.0",
      "_model_name": "HBoxModel",
      "_view_count": null,
      "_view_module": "@jupyter-widgets/controls",
      "_view_module_version": "1.5.0",
      "_view_name": "HBoxView",
      "box_style": "",
      "children": [
       "IPY_MODEL_9cbd0090e8314483a379271b84df13c7",
       "IPY_MODEL_82b85f9e714448e5b22fd9e993b1cf58",
       "IPY_MODEL_2ab8ac58fdb24f3abf839b6d20462356"
      ],
      "layout": "IPY_MODEL_299e96c2ea96428ea1db90f38ebd9cc8"
     }
    },
    "74f9bfe6c43842f9a7b28b94b55b908b": {
     "model_module": "@jupyter-widgets/controls",
     "model_module_version": "1.5.0",
     "model_name": "DescriptionStyleModel",
     "state": {
      "_model_module": "@jupyter-widgets/controls",
      "_model_module_version": "1.5.0",
      "_model_name": "DescriptionStyleModel",
      "_view_count": null,
      "_view_module": "@jupyter-widgets/base",
      "_view_module_version": "1.2.0",
      "_view_name": "StyleView",
      "description_width": ""
     }
    },
    "76f8e561a86e4916bbd819a67cd9a76e": {
     "model_module": "@jupyter-widgets/controls",
     "model_module_version": "1.5.0",
     "model_name": "HTMLModel",
     "state": {
      "_dom_classes": [],
      "_model_module": "@jupyter-widgets/controls",
      "_model_module_version": "1.5.0",
      "_model_name": "HTMLModel",
      "_view_count": null,
      "_view_module": "@jupyter-widgets/controls",
      "_view_module_version": "1.5.0",
      "_view_name": "HTMLView",
      "description": "",
      "description_tooltip": null,
      "layout": "IPY_MODEL_8fbe93ee7d384184919fb17852ab84f3",
      "placeholder": "​",
      "style": "IPY_MODEL_3ae2ed4a03fb4ae597acc96628499c54",
      "value": " 8.27k/8.27k [00:00&lt;00:00, 494kB/s]"
     }
    },
    "77d637319558427bad5628ef5509415a": {
     "model_module": "@jupyter-widgets/controls",
     "model_module_version": "1.5.0",
     "model_name": "FloatProgressModel",
     "state": {
      "_dom_classes": [],
      "_model_module": "@jupyter-widgets/controls",
      "_model_module_version": "1.5.0",
      "_model_name": "FloatProgressModel",
      "_view_count": null,
      "_view_module": "@jupyter-widgets/controls",
      "_view_module_version": "1.5.0",
      "_view_name": "ProgressView",
      "bar_style": "success",
      "description": "",
      "description_tooltip": null,
      "layout": "IPY_MODEL_e8be989c9bdc4d89b78bfc9fc892f1a9",
      "max": 119924,
      "min": 0,
      "orientation": "horizontal",
      "style": "IPY_MODEL_4631201609d64cc29d8d87a796f42fd7",
      "value": 119924
     }
    },
    "818883b93d124f0a978971e33186a417": {
     "model_module": "@jupyter-widgets/controls",
     "model_module_version": "1.5.0",
     "model_name": "HTMLModel",
     "state": {
      "_dom_classes": [],
      "_model_module": "@jupyter-widgets/controls",
      "_model_module_version": "1.5.0",
      "_model_name": "HTMLModel",
      "_view_count": null,
      "_view_module": "@jupyter-widgets/controls",
      "_view_module_version": "1.5.0",
      "_view_name": "HTMLView",
      "description": "",
      "description_tooltip": null,
      "layout": "IPY_MODEL_051950bdb8534e6f922e04cfd983ed8b",
      "placeholder": "​",
      "style": "IPY_MODEL_74f9bfe6c43842f9a7b28b94b55b908b",
      "value": " 6658/6658 [00:02&lt;00:00, 3317.72 examples/s]"
     }
    },
    "82b85f9e714448e5b22fd9e993b1cf58": {
     "model_module": "@jupyter-widgets/controls",
     "model_module_version": "1.5.0",
     "model_name": "FloatProgressModel",
     "state": {
      "_dom_classes": [],
      "_model_module": "@jupyter-widgets/controls",
      "_model_module_version": "1.5.0",
      "_model_name": "FloatProgressModel",
      "_view_count": null,
      "_view_module": "@jupyter-widgets/controls",
      "_view_module_version": "1.5.0",
      "_view_name": "ProgressView",
      "bar_style": "success",
      "description": "",
      "description_tooltip": null,
      "layout": "IPY_MODEL_f4c35671158a4b5980b720cbbc7643da",
      "max": 880225504,
      "min": 0,
      "orientation": "horizontal",
      "style": "IPY_MODEL_51714ef71eee46bfa46379c2bedeeb60",
      "value": 880225504
     }
    },
    "8dc6039e647b4e4d8b60cbffc431ce7a": {
     "model_module": "@jupyter-widgets/base",
     "model_module_version": "1.2.0",
     "model_name": "LayoutModel",
     "state": {
      "_model_module": "@jupyter-widgets/base",
      "_model_module_version": "1.2.0",
      "_model_name": "LayoutModel",
      "_view_count": null,
      "_view_module": "@jupyter-widgets/base",
      "_view_module_version": "1.2.0",
      "_view_name": "LayoutView",
      "align_content": null,
      "align_items": null,
      "align_self": null,
      "border": null,
      "bottom": null,
      "display": null,
      "flex": null,
      "flex_flow": null,
      "grid_area": null,
      "grid_auto_columns": null,
      "grid_auto_flow": null,
      "grid_auto_rows": null,
      "grid_column": null,
      "grid_gap": null,
      "grid_row": null,
      "grid_template_areas": null,
      "grid_template_columns": null,
      "grid_template_rows": null,
      "height": null,
      "justify_content": null,
      "justify_items": null,
      "left": null,
      "margin": null,
      "max_height": null,
      "max_width": null,
      "min_height": null,
      "min_width": null,
      "object_fit": null,
      "object_position": null,
      "order": null,
      "overflow": null,
      "overflow_x": null,
      "overflow_y": null,
      "padding": null,
      "right": null,
      "top": null,
      "visibility": null,
      "width": null
     }
    },
    "8e5ffa24d34f46528e9d588e8183271e": {
     "model_module": "@jupyter-widgets/base",
     "model_module_version": "1.2.0",
     "model_name": "LayoutModel",
     "state": {
      "_model_module": "@jupyter-widgets/base",
      "_model_module_version": "1.2.0",
      "_model_name": "LayoutModel",
      "_view_count": null,
      "_view_module": "@jupyter-widgets/base",
      "_view_module_version": "1.2.0",
      "_view_name": "LayoutView",
      "align_content": null,
      "align_items": null,
      "align_self": null,
      "border": null,
      "bottom": null,
      "display": null,
      "flex": null,
      "flex_flow": null,
      "grid_area": null,
      "grid_auto_columns": null,
      "grid_auto_flow": null,
      "grid_auto_rows": null,
      "grid_column": null,
      "grid_gap": null,
      "grid_row": null,
      "grid_template_areas": null,
      "grid_template_columns": null,
      "grid_template_rows": null,
      "height": null,
      "justify_content": null,
      "justify_items": null,
      "left": null,
      "margin": null,
      "max_height": null,
      "max_width": null,
      "min_height": null,
      "min_width": null,
      "object_fit": null,
      "object_position": null,
      "order": null,
      "overflow": null,
      "overflow_x": null,
      "overflow_y": null,
      "padding": null,
      "right": null,
      "top": null,
      "visibility": null,
      "width": null
     }
    },
    "8fbe93ee7d384184919fb17852ab84f3": {
     "model_module": "@jupyter-widgets/base",
     "model_module_version": "1.2.0",
     "model_name": "LayoutModel",
     "state": {
      "_model_module": "@jupyter-widgets/base",
      "_model_module_version": "1.2.0",
      "_model_name": "LayoutModel",
      "_view_count": null,
      "_view_module": "@jupyter-widgets/base",
      "_view_module_version": "1.2.0",
      "_view_name": "LayoutView",
      "align_content": null,
      "align_items": null,
      "align_self": null,
      "border": null,
      "bottom": null,
      "display": null,
      "flex": null,
      "flex_flow": null,
      "grid_area": null,
      "grid_auto_columns": null,
      "grid_auto_flow": null,
      "grid_auto_rows": null,
      "grid_column": null,
      "grid_gap": null,
      "grid_row": null,
      "grid_template_areas": null,
      "grid_template_columns": null,
      "grid_template_rows": null,
      "height": null,
      "justify_content": null,
      "justify_items": null,
      "left": null,
      "margin": null,
      "max_height": null,
      "max_width": null,
      "min_height": null,
      "min_width": null,
      "object_fit": null,
      "object_position": null,
      "order": null,
      "overflow": null,
      "overflow_x": null,
      "overflow_y": null,
      "padding": null,
      "right": null,
      "top": null,
      "visibility": null,
      "width": null
     }
    },
    "951793b9d48f4fd58d596f15af0e9797": {
     "model_module": "@jupyter-widgets/controls",
     "model_module_version": "1.5.0",
     "model_name": "DescriptionStyleModel",
     "state": {
      "_model_module": "@jupyter-widgets/controls",
      "_model_module_version": "1.5.0",
      "_model_name": "DescriptionStyleModel",
      "_view_count": null,
      "_view_module": "@jupyter-widgets/base",
      "_view_module_version": "1.2.0",
      "_view_name": "StyleView",
      "description_width": ""
     }
    },
    "98a8a7671db94a38b58eed72193755d2": {
     "model_module": "@jupyter-widgets/controls",
     "model_module_version": "1.5.0",
     "model_name": "HTMLModel",
     "state": {
      "_dom_classes": [],
      "_model_module": "@jupyter-widgets/controls",
      "_model_module_version": "1.5.0",
      "_model_name": "HTMLModel",
      "_view_count": null,
      "_view_module": "@jupyter-widgets/controls",
      "_view_module_version": "1.5.0",
      "_view_name": "HTMLView",
      "description": "",
      "description_tooltip": null,
      "layout": "IPY_MODEL_f687181eccec4eac8c0354d439f3d5b8",
      "placeholder": "​",
      "style": "IPY_MODEL_702316d6ad0d4d11bd8fa08eee9add6a",
      "value": "Generating train split: 100%"
     }
    },
    "9cbd0090e8314483a379271b84df13c7": {
     "model_module": "@jupyter-widgets/controls",
     "model_module_version": "1.5.0",
     "model_name": "HTMLModel",
     "state": {
      "_dom_classes": [],
      "_model_module": "@jupyter-widgets/controls",
      "_model_module_version": "1.5.0",
      "_model_name": "HTMLModel",
      "_view_count": null,
      "_view_module": "@jupyter-widgets/controls",
      "_view_module_version": "1.5.0",
      "_view_name": "HTMLView",
      "description": "",
      "description_tooltip": null,
      "layout": "IPY_MODEL_181de2038d2f4c1995d4e25d9f5a1524",
      "placeholder": "​",
      "style": "IPY_MODEL_ba8eb7712e6a4c70aba3bbe8b37905a1",
      "value": "Downloading data: 100%"
     }
    },
    "a52f4ab858034018b4829c0f28c551e7": {
     "model_module": "@jupyter-widgets/controls",
     "model_module_version": "1.5.0",
     "model_name": "HTMLModel",
     "state": {
      "_dom_classes": [],
      "_model_module": "@jupyter-widgets/controls",
      "_model_module_version": "1.5.0",
      "_model_name": "HTMLModel",
      "_view_count": null,
      "_view_module": "@jupyter-widgets/controls",
      "_view_module_version": "1.5.0",
      "_view_name": "HTMLView",
      "description": "",
      "description_tooltip": null,
      "layout": "IPY_MODEL_a948d89883f2478c895a6f7880b97712",
      "placeholder": "​",
      "style": "IPY_MODEL_199b389f4b97488d8c2ee8ebf135a653",
      "value": " 6633/6633 [00:02&lt;00:00, 3172.27 examples/s]"
     }
    },
    "a7c7a0c5fcd54baa96ee2e4b1d3ec86a": {
     "model_module": "@jupyter-widgets/controls",
     "model_module_version": "1.5.0",
     "model_name": "DescriptionStyleModel",
     "state": {
      "_model_module": "@jupyter-widgets/controls",
      "_model_module_version": "1.5.0",
      "_model_name": "DescriptionStyleModel",
      "_view_count": null,
      "_view_module": "@jupyter-widgets/base",
      "_view_module_version": "1.2.0",
      "_view_name": "StyleView",
      "description_width": ""
     }
    },
    "a948d89883f2478c895a6f7880b97712": {
     "model_module": "@jupyter-widgets/base",
     "model_module_version": "1.2.0",
     "model_name": "LayoutModel",
     "state": {
      "_model_module": "@jupyter-widgets/base",
      "_model_module_version": "1.2.0",
      "_model_name": "LayoutModel",
      "_view_count": null,
      "_view_module": "@jupyter-widgets/base",
      "_view_module_version": "1.2.0",
      "_view_name": "LayoutView",
      "align_content": null,
      "align_items": null,
      "align_self": null,
      "border": null,
      "bottom": null,
      "display": null,
      "flex": null,
      "flex_flow": null,
      "grid_area": null,
      "grid_auto_columns": null,
      "grid_auto_flow": null,
      "grid_auto_rows": null,
      "grid_column": null,
      "grid_gap": null,
      "grid_row": null,
      "grid_template_areas": null,
      "grid_template_columns": null,
      "grid_template_rows": null,
      "height": null,
      "justify_content": null,
      "justify_items": null,
      "left": null,
      "margin": null,
      "max_height": null,
      "max_width": null,
      "min_height": null,
      "min_width": null,
      "object_fit": null,
      "object_position": null,
      "order": null,
      "overflow": null,
      "overflow_x": null,
      "overflow_y": null,
      "padding": null,
      "right": null,
      "top": null,
      "visibility": null,
      "width": null
     }
    },
    "aaac76217e474fe98c512a09c6cdd191": {
     "model_module": "@jupyter-widgets/base",
     "model_module_version": "1.2.0",
     "model_name": "LayoutModel",
     "state": {
      "_model_module": "@jupyter-widgets/base",
      "_model_module_version": "1.2.0",
      "_model_name": "LayoutModel",
      "_view_count": null,
      "_view_module": "@jupyter-widgets/base",
      "_view_module_version": "1.2.0",
      "_view_name": "LayoutView",
      "align_content": null,
      "align_items": null,
      "align_self": null,
      "border": null,
      "bottom": null,
      "display": null,
      "flex": null,
      "flex_flow": null,
      "grid_area": null,
      "grid_auto_columns": null,
      "grid_auto_flow": null,
      "grid_auto_rows": null,
      "grid_column": null,
      "grid_gap": null,
      "grid_row": null,
      "grid_template_areas": null,
      "grid_template_columns": null,
      "grid_template_rows": null,
      "height": null,
      "justify_content": null,
      "justify_items": null,
      "left": null,
      "margin": null,
      "max_height": null,
      "max_width": null,
      "min_height": null,
      "min_width": null,
      "object_fit": null,
      "object_position": null,
      "order": null,
      "overflow": null,
      "overflow_x": null,
      "overflow_y": null,
      "padding": null,
      "right": null,
      "top": null,
      "visibility": null,
      "width": null
     }
    },
    "b56a55088936411eb6dd45dfd1b5d6cf": {
     "model_module": "@jupyter-widgets/controls",
     "model_module_version": "1.5.0",
     "model_name": "DescriptionStyleModel",
     "state": {
      "_model_module": "@jupyter-widgets/controls",
      "_model_module_version": "1.5.0",
      "_model_name": "DescriptionStyleModel",
      "_view_count": null,
      "_view_module": "@jupyter-widgets/base",
      "_view_module_version": "1.2.0",
      "_view_name": "StyleView",
      "description_width": ""
     }
    },
    "ba1d388b2ca44ec4aec33f68ca91351b": {
     "model_module": "@jupyter-widgets/base",
     "model_module_version": "1.2.0",
     "model_name": "LayoutModel",
     "state": {
      "_model_module": "@jupyter-widgets/base",
      "_model_module_version": "1.2.0",
      "_model_name": "LayoutModel",
      "_view_count": null,
      "_view_module": "@jupyter-widgets/base",
      "_view_module_version": "1.2.0",
      "_view_name": "LayoutView",
      "align_content": null,
      "align_items": null,
      "align_self": null,
      "border": null,
      "bottom": null,
      "display": null,
      "flex": null,
      "flex_flow": null,
      "grid_area": null,
      "grid_auto_columns": null,
      "grid_auto_flow": null,
      "grid_auto_rows": null,
      "grid_column": null,
      "grid_gap": null,
      "grid_row": null,
      "grid_template_areas": null,
      "grid_template_columns": null,
      "grid_template_rows": null,
      "height": null,
      "justify_content": null,
      "justify_items": null,
      "left": null,
      "margin": null,
      "max_height": null,
      "max_width": null,
      "min_height": null,
      "min_width": null,
      "object_fit": null,
      "object_position": null,
      "order": null,
      "overflow": null,
      "overflow_x": null,
      "overflow_y": null,
      "padding": null,
      "right": null,
      "top": null,
      "visibility": null,
      "width": null
     }
    },
    "ba8eb7712e6a4c70aba3bbe8b37905a1": {
     "model_module": "@jupyter-widgets/controls",
     "model_module_version": "1.5.0",
     "model_name": "DescriptionStyleModel",
     "state": {
      "_model_module": "@jupyter-widgets/controls",
      "_model_module_version": "1.5.0",
      "_model_name": "DescriptionStyleModel",
      "_view_count": null,
      "_view_module": "@jupyter-widgets/base",
      "_view_module_version": "1.2.0",
      "_view_name": "StyleView",
      "description_width": ""
     }
    },
    "bd8d0339b7c140dc836c294c43553a05": {
     "model_module": "@jupyter-widgets/base",
     "model_module_version": "1.2.0",
     "model_name": "LayoutModel",
     "state": {
      "_model_module": "@jupyter-widgets/base",
      "_model_module_version": "1.2.0",
      "_model_name": "LayoutModel",
      "_view_count": null,
      "_view_module": "@jupyter-widgets/base",
      "_view_module_version": "1.2.0",
      "_view_name": "LayoutView",
      "align_content": null,
      "align_items": null,
      "align_self": null,
      "border": null,
      "bottom": null,
      "display": null,
      "flex": null,
      "flex_flow": null,
      "grid_area": null,
      "grid_auto_columns": null,
      "grid_auto_flow": null,
      "grid_auto_rows": null,
      "grid_column": null,
      "grid_gap": null,
      "grid_row": null,
      "grid_template_areas": null,
      "grid_template_columns": null,
      "grid_template_rows": null,
      "height": null,
      "justify_content": null,
      "justify_items": null,
      "left": null,
      "margin": null,
      "max_height": null,
      "max_width": null,
      "min_height": null,
      "min_width": null,
      "object_fit": null,
      "object_position": null,
      "order": null,
      "overflow": null,
      "overflow_x": null,
      "overflow_y": null,
      "padding": null,
      "right": null,
      "top": null,
      "visibility": null,
      "width": null
     }
    },
    "c0a85df2c65a41f5b938ca944b7bed2b": {
     "model_module": "@jupyter-widgets/base",
     "model_module_version": "1.2.0",
     "model_name": "LayoutModel",
     "state": {
      "_model_module": "@jupyter-widgets/base",
      "_model_module_version": "1.2.0",
      "_model_name": "LayoutModel",
      "_view_count": null,
      "_view_module": "@jupyter-widgets/base",
      "_view_module_version": "1.2.0",
      "_view_name": "LayoutView",
      "align_content": null,
      "align_items": null,
      "align_self": null,
      "border": null,
      "bottom": null,
      "display": null,
      "flex": null,
      "flex_flow": null,
      "grid_area": null,
      "grid_auto_columns": null,
      "grid_auto_flow": null,
      "grid_auto_rows": null,
      "grid_column": null,
      "grid_gap": null,
      "grid_row": null,
      "grid_template_areas": null,
      "grid_template_columns": null,
      "grid_template_rows": null,
      "height": null,
      "justify_content": null,
      "justify_items": null,
      "left": null,
      "margin": null,
      "max_height": null,
      "max_width": null,
      "min_height": null,
      "min_width": null,
      "object_fit": null,
      "object_position": null,
      "order": null,
      "overflow": null,
      "overflow_x": null,
      "overflow_y": null,
      "padding": null,
      "right": null,
      "top": null,
      "visibility": null,
      "width": null
     }
    },
    "c6caf747703f48ca8ff43fbe6d0f09cc": {
     "model_module": "@jupyter-widgets/controls",
     "model_module_version": "1.5.0",
     "model_name": "FloatProgressModel",
     "state": {
      "_dom_classes": [],
      "_model_module": "@jupyter-widgets/controls",
      "_model_module_version": "1.5.0",
      "_model_name": "FloatProgressModel",
      "_view_count": null,
      "_view_module": "@jupyter-widgets/controls",
      "_view_module_version": "1.5.0",
      "_view_name": "ProgressView",
      "bar_style": "success",
      "description": "",
      "description_tooltip": null,
      "layout": "IPY_MODEL_6eb66e592a6c45eca8c467541239d7c0",
      "max": 8269,
      "min": 0,
      "orientation": "horizontal",
      "style": "IPY_MODEL_091dd48eb9cd4fec89607dbf2e61a515",
      "value": 8269
     }
    },
    "d143e4e09cb04ad2b66959898bd37516": {
     "model_module": "@jupyter-widgets/controls",
     "model_module_version": "1.5.0",
     "model_name": "HTMLModel",
     "state": {
      "_dom_classes": [],
      "_model_module": "@jupyter-widgets/controls",
      "_model_module_version": "1.5.0",
      "_model_name": "HTMLModel",
      "_view_count": null,
      "_view_module": "@jupyter-widgets/controls",
      "_view_module_version": "1.5.0",
      "_view_name": "HTMLView",
      "description": "",
      "description_tooltip": null,
      "layout": "IPY_MODEL_edce8a0d692b4ce9b98a11545f89ca1b",
      "placeholder": "​",
      "style": "IPY_MODEL_951793b9d48f4fd58d596f15af0e9797",
      "value": "Downloading data: 100%"
     }
    },
    "d75638783f2246a0a0689981e530e4cb": {
     "model_module": "@jupyter-widgets/controls",
     "model_module_version": "1.5.0",
     "model_name": "DescriptionStyleModel",
     "state": {
      "_model_module": "@jupyter-widgets/controls",
      "_model_module_version": "1.5.0",
      "_model_name": "DescriptionStyleModel",
      "_view_count": null,
      "_view_module": "@jupyter-widgets/base",
      "_view_module_version": "1.2.0",
      "_view_name": "StyleView",
      "description_width": ""
     }
    },
    "d85a99409fff4b27b2aa0c3d5b168316": {
     "model_module": "@jupyter-widgets/base",
     "model_module_version": "1.2.0",
     "model_name": "LayoutModel",
     "state": {
      "_model_module": "@jupyter-widgets/base",
      "_model_module_version": "1.2.0",
      "_model_name": "LayoutModel",
      "_view_count": null,
      "_view_module": "@jupyter-widgets/base",
      "_view_module_version": "1.2.0",
      "_view_name": "LayoutView",
      "align_content": null,
      "align_items": null,
      "align_self": null,
      "border": null,
      "bottom": null,
      "display": null,
      "flex": null,
      "flex_flow": null,
      "grid_area": null,
      "grid_auto_columns": null,
      "grid_auto_flow": null,
      "grid_auto_rows": null,
      "grid_column": null,
      "grid_gap": null,
      "grid_row": null,
      "grid_template_areas": null,
      "grid_template_columns": null,
      "grid_template_rows": null,
      "height": null,
      "justify_content": null,
      "justify_items": null,
      "left": null,
      "margin": null,
      "max_height": null,
      "max_width": null,
      "min_height": null,
      "min_width": null,
      "object_fit": null,
      "object_position": null,
      "order": null,
      "overflow": null,
      "overflow_x": null,
      "overflow_y": null,
      "padding": null,
      "right": null,
      "top": null,
      "visibility": null,
      "width": null
     }
    },
    "daa36e432f80464dac1aad3c5071508d": {
     "model_module": "@jupyter-widgets/controls",
     "model_module_version": "1.5.0",
     "model_name": "HTMLModel",
     "state": {
      "_dom_classes": [],
      "_model_module": "@jupyter-widgets/controls",
      "_model_module_version": "1.5.0",
      "_model_name": "HTMLModel",
      "_view_count": null,
      "_view_module": "@jupyter-widgets/controls",
      "_view_module_version": "1.5.0",
      "_view_name": "HTMLView",
      "description": "",
      "description_tooltip": null,
      "layout": "IPY_MODEL_c0a85df2c65a41f5b938ca944b7bed2b",
      "placeholder": "​",
      "style": "IPY_MODEL_a7c7a0c5fcd54baa96ee2e4b1d3ec86a",
      "value": " 3.62G/3.62G [01:06&lt;00:00, 32.4MB/s]"
     }
    },
    "df9e665ec3434346b11de4b50c977d61": {
     "model_module": "@jupyter-widgets/base",
     "model_module_version": "1.2.0",
     "model_name": "LayoutModel",
     "state": {
      "_model_module": "@jupyter-widgets/base",
      "_model_module_version": "1.2.0",
      "_model_name": "LayoutModel",
      "_view_count": null,
      "_view_module": "@jupyter-widgets/base",
      "_view_module_version": "1.2.0",
      "_view_name": "LayoutView",
      "align_content": null,
      "align_items": null,
      "align_self": null,
      "border": null,
      "bottom": null,
      "display": null,
      "flex": null,
      "flex_flow": null,
      "grid_area": null,
      "grid_auto_columns": null,
      "grid_auto_flow": null,
      "grid_auto_rows": null,
      "grid_column": null,
      "grid_gap": null,
      "grid_row": null,
      "grid_template_areas": null,
      "grid_template_columns": null,
      "grid_template_rows": null,
      "height": null,
      "justify_content": null,
      "justify_items": null,
      "left": null,
      "margin": null,
      "max_height": null,
      "max_width": null,
      "min_height": null,
      "min_width": null,
      "object_fit": null,
      "object_position": null,
      "order": null,
      "overflow": null,
      "overflow_x": null,
      "overflow_y": null,
      "padding": null,
      "right": null,
      "top": null,
      "visibility": null,
      "width": null
     }
    },
    "e2d7fe2d6cd644f7b2c54adfc2ced93f": {
     "model_module": "@jupyter-widgets/controls",
     "model_module_version": "1.5.0",
     "model_name": "FloatProgressModel",
     "state": {
      "_dom_classes": [],
      "_model_module": "@jupyter-widgets/controls",
      "_model_module_version": "1.5.0",
      "_model_name": "FloatProgressModel",
      "_view_count": null,
      "_view_module": "@jupyter-widgets/controls",
      "_view_module_version": "1.5.0",
      "_view_name": "ProgressView",
      "bar_style": "success",
      "description": "",
      "description_tooltip": null,
      "layout": "IPY_MODEL_34efaaa4c79b42e8be6b5677d55a42eb",
      "max": 3624420843,
      "min": 0,
      "orientation": "horizontal",
      "style": "IPY_MODEL_177287a0eac24febb60a953e5e14ea0a",
      "value": 3624420843
     }
    },
    "e40c76ad501b47299b160a67e53106a1": {
     "model_module": "@jupyter-widgets/controls",
     "model_module_version": "1.5.0",
     "model_name": "DescriptionStyleModel",
     "state": {
      "_model_module": "@jupyter-widgets/controls",
      "_model_module_version": "1.5.0",
      "_model_name": "DescriptionStyleModel",
      "_view_count": null,
      "_view_module": "@jupyter-widgets/base",
      "_view_module_version": "1.2.0",
      "_view_name": "StyleView",
      "description_width": ""
     }
    },
    "e60fa4ef56e94c4ba3ed5c85fbc7d9c6": {
     "model_module": "@jupyter-widgets/controls",
     "model_module_version": "1.5.0",
     "model_name": "ProgressStyleModel",
     "state": {
      "_model_module": "@jupyter-widgets/controls",
      "_model_module_version": "1.5.0",
      "_model_name": "ProgressStyleModel",
      "_view_count": null,
      "_view_module": "@jupyter-widgets/base",
      "_view_module_version": "1.2.0",
      "_view_name": "StyleView",
      "bar_color": null,
      "description_width": ""
     }
    },
    "e6eb8b846f604cfaa68bc34513a6a4d3": {
     "model_module": "@jupyter-widgets/base",
     "model_module_version": "1.2.0",
     "model_name": "LayoutModel",
     "state": {
      "_model_module": "@jupyter-widgets/base",
      "_model_module_version": "1.2.0",
      "_model_name": "LayoutModel",
      "_view_count": null,
      "_view_module": "@jupyter-widgets/base",
      "_view_module_version": "1.2.0",
      "_view_name": "LayoutView",
      "align_content": null,
      "align_items": null,
      "align_self": null,
      "border": null,
      "bottom": null,
      "display": null,
      "flex": null,
      "flex_flow": null,
      "grid_area": null,
      "grid_auto_columns": null,
      "grid_auto_flow": null,
      "grid_auto_rows": null,
      "grid_column": null,
      "grid_gap": null,
      "grid_row": null,
      "grid_template_areas": null,
      "grid_template_columns": null,
      "grid_template_rows": null,
      "height": null,
      "justify_content": null,
      "justify_items": null,
      "left": null,
      "margin": null,
      "max_height": null,
      "max_width": null,
      "min_height": null,
      "min_width": null,
      "object_fit": null,
      "object_position": null,
      "order": null,
      "overflow": null,
      "overflow_x": null,
      "overflow_y": null,
      "padding": null,
      "right": null,
      "top": null,
      "visibility": null,
      "width": null
     }
    },
    "e8be989c9bdc4d89b78bfc9fc892f1a9": {
     "model_module": "@jupyter-widgets/base",
     "model_module_version": "1.2.0",
     "model_name": "LayoutModel",
     "state": {
      "_model_module": "@jupyter-widgets/base",
      "_model_module_version": "1.2.0",
      "_model_name": "LayoutModel",
      "_view_count": null,
      "_view_module": "@jupyter-widgets/base",
      "_view_module_version": "1.2.0",
      "_view_name": "LayoutView",
      "align_content": null,
      "align_items": null,
      "align_self": null,
      "border": null,
      "bottom": null,
      "display": null,
      "flex": null,
      "flex_flow": null,
      "grid_area": null,
      "grid_auto_columns": null,
      "grid_auto_flow": null,
      "grid_auto_rows": null,
      "grid_column": null,
      "grid_gap": null,
      "grid_row": null,
      "grid_template_areas": null,
      "grid_template_columns": null,
      "grid_template_rows": null,
      "height": null,
      "justify_content": null,
      "justify_items": null,
      "left": null,
      "margin": null,
      "max_height": null,
      "max_width": null,
      "min_height": null,
      "min_width": null,
      "object_fit": null,
      "object_position": null,
      "order": null,
      "overflow": null,
      "overflow_x": null,
      "overflow_y": null,
      "padding": null,
      "right": null,
      "top": null,
      "visibility": null,
      "width": null
     }
    },
    "edce8a0d692b4ce9b98a11545f89ca1b": {
     "model_module": "@jupyter-widgets/base",
     "model_module_version": "1.2.0",
     "model_name": "LayoutModel",
     "state": {
      "_model_module": "@jupyter-widgets/base",
      "_model_module_version": "1.2.0",
      "_model_name": "LayoutModel",
      "_view_count": null,
      "_view_module": "@jupyter-widgets/base",
      "_view_module_version": "1.2.0",
      "_view_name": "LayoutView",
      "align_content": null,
      "align_items": null,
      "align_self": null,
      "border": null,
      "bottom": null,
      "display": null,
      "flex": null,
      "flex_flow": null,
      "grid_area": null,
      "grid_auto_columns": null,
      "grid_auto_flow": null,
      "grid_auto_rows": null,
      "grid_column": null,
      "grid_gap": null,
      "grid_row": null,
      "grid_template_areas": null,
      "grid_template_columns": null,
      "grid_template_rows": null,
      "height": null,
      "justify_content": null,
      "justify_items": null,
      "left": null,
      "margin": null,
      "max_height": null,
      "max_width": null,
      "min_height": null,
      "min_width": null,
      "object_fit": null,
      "object_position": null,
      "order": null,
      "overflow": null,
      "overflow_x": null,
      "overflow_y": null,
      "padding": null,
      "right": null,
      "top": null,
      "visibility": null,
      "width": null
     }
    },
    "f1e09858d311415ca1e9475b0d7c34da": {
     "model_module": "@jupyter-widgets/base",
     "model_module_version": "1.2.0",
     "model_name": "LayoutModel",
     "state": {
      "_model_module": "@jupyter-widgets/base",
      "_model_module_version": "1.2.0",
      "_model_name": "LayoutModel",
      "_view_count": null,
      "_view_module": "@jupyter-widgets/base",
      "_view_module_version": "1.2.0",
      "_view_name": "LayoutView",
      "align_content": null,
      "align_items": null,
      "align_self": null,
      "border": null,
      "bottom": null,
      "display": null,
      "flex": null,
      "flex_flow": null,
      "grid_area": null,
      "grid_auto_columns": null,
      "grid_auto_flow": null,
      "grid_auto_rows": null,
      "grid_column": null,
      "grid_gap": null,
      "grid_row": null,
      "grid_template_areas": null,
      "grid_template_columns": null,
      "grid_template_rows": null,
      "height": null,
      "justify_content": null,
      "justify_items": null,
      "left": null,
      "margin": null,
      "max_height": null,
      "max_width": null,
      "min_height": null,
      "min_width": null,
      "object_fit": null,
      "object_position": null,
      "order": null,
      "overflow": null,
      "overflow_x": null,
      "overflow_y": null,
      "padding": null,
      "right": null,
      "top": null,
      "visibility": null,
      "width": null
     }
    },
    "f4c35671158a4b5980b720cbbc7643da": {
     "model_module": "@jupyter-widgets/base",
     "model_module_version": "1.2.0",
     "model_name": "LayoutModel",
     "state": {
      "_model_module": "@jupyter-widgets/base",
      "_model_module_version": "1.2.0",
      "_model_name": "LayoutModel",
      "_view_count": null,
      "_view_module": "@jupyter-widgets/base",
      "_view_module_version": "1.2.0",
      "_view_name": "LayoutView",
      "align_content": null,
      "align_items": null,
      "align_self": null,
      "border": null,
      "bottom": null,
      "display": null,
      "flex": null,
      "flex_flow": null,
      "grid_area": null,
      "grid_auto_columns": null,
      "grid_auto_flow": null,
      "grid_auto_rows": null,
      "grid_column": null,
      "grid_gap": null,
      "grid_row": null,
      "grid_template_areas": null,
      "grid_template_columns": null,
      "grid_template_rows": null,
      "height": null,
      "justify_content": null,
      "justify_items": null,
      "left": null,
      "margin": null,
      "max_height": null,
      "max_width": null,
      "min_height": null,
      "min_width": null,
      "object_fit": null,
      "object_position": null,
      "order": null,
      "overflow": null,
      "overflow_x": null,
      "overflow_y": null,
      "padding": null,
      "right": null,
      "top": null,
      "visibility": null,
      "width": null
     }
    },
    "f5f1a48feae94207ad7272e9bc1b4209": {
     "model_module": "@jupyter-widgets/controls",
     "model_module_version": "1.5.0",
     "model_name": "ProgressStyleModel",
     "state": {
      "_model_module": "@jupyter-widgets/controls",
      "_model_module_version": "1.5.0",
      "_model_name": "ProgressStyleModel",
      "_view_count": null,
      "_view_module": "@jupyter-widgets/base",
      "_view_module_version": "1.2.0",
      "_view_name": "StyleView",
      "bar_color": null,
      "description_width": ""
     }
    },
    "f67aeaabd0b74650bc151ef7c70e0922": {
     "model_module": "@jupyter-widgets/base",
     "model_module_version": "1.2.0",
     "model_name": "LayoutModel",
     "state": {
      "_model_module": "@jupyter-widgets/base",
      "_model_module_version": "1.2.0",
      "_model_name": "LayoutModel",
      "_view_count": null,
      "_view_module": "@jupyter-widgets/base",
      "_view_module_version": "1.2.0",
      "_view_name": "LayoutView",
      "align_content": null,
      "align_items": null,
      "align_self": null,
      "border": null,
      "bottom": null,
      "display": null,
      "flex": null,
      "flex_flow": null,
      "grid_area": null,
      "grid_auto_columns": null,
      "grid_auto_flow": null,
      "grid_auto_rows": null,
      "grid_column": null,
      "grid_gap": null,
      "grid_row": null,
      "grid_template_areas": null,
      "grid_template_columns": null,
      "grid_template_rows": null,
      "height": null,
      "justify_content": null,
      "justify_items": null,
      "left": null,
      "margin": null,
      "max_height": null,
      "max_width": null,
      "min_height": null,
      "min_width": null,
      "object_fit": null,
      "object_position": null,
      "order": null,
      "overflow": null,
      "overflow_x": null,
      "overflow_y": null,
      "padding": null,
      "right": null,
      "top": null,
      "visibility": null,
      "width": null
     }
    },
    "f687181eccec4eac8c0354d439f3d5b8": {
     "model_module": "@jupyter-widgets/base",
     "model_module_version": "1.2.0",
     "model_name": "LayoutModel",
     "state": {
      "_model_module": "@jupyter-widgets/base",
      "_model_module_version": "1.2.0",
      "_model_name": "LayoutModel",
      "_view_count": null,
      "_view_module": "@jupyter-widgets/base",
      "_view_module_version": "1.2.0",
      "_view_name": "LayoutView",
      "align_content": null,
      "align_items": null,
      "align_self": null,
      "border": null,
      "bottom": null,
      "display": null,
      "flex": null,
      "flex_flow": null,
      "grid_area": null,
      "grid_auto_columns": null,
      "grid_auto_flow": null,
      "grid_auto_rows": null,
      "grid_column": null,
      "grid_gap": null,
      "grid_row": null,
      "grid_template_areas": null,
      "grid_template_columns": null,
      "grid_template_rows": null,
      "height": null,
      "justify_content": null,
      "justify_items": null,
      "left": null,
      "margin": null,
      "max_height": null,
      "max_width": null,
      "min_height": null,
      "min_width": null,
      "object_fit": null,
      "object_position": null,
      "order": null,
      "overflow": null,
      "overflow_x": null,
      "overflow_y": null,
      "padding": null,
      "right": null,
      "top": null,
      "visibility": null,
      "width": null
     }
    },
    "fe8e337559ac48168b5fc5c05d981589": {
     "model_module": "@jupyter-widgets/controls",
     "model_module_version": "1.5.0",
     "model_name": "HTMLModel",
     "state": {
      "_dom_classes": [],
      "_model_module": "@jupyter-widgets/controls",
      "_model_module_version": "1.5.0",
      "_model_name": "HTMLModel",
      "_view_count": null,
      "_view_module": "@jupyter-widgets/controls",
      "_view_module_version": "1.5.0",
      "_view_name": "HTMLView",
      "description": "",
      "description_tooltip": null,
      "layout": "IPY_MODEL_f67aeaabd0b74650bc151ef7c70e0922",
      "placeholder": "​",
      "style": "IPY_MODEL_0188591fbce7422bbe4293a866ea422b",
      "value": " 119924/119924 [00:39&lt;00:00, 3578.05 examples/s]"
     }
    }
   }
  }
 },
 "nbformat": 4,
 "nbformat_minor": 1
}

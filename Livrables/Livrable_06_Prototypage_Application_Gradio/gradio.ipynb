{
  "cells": [
    {
      "cell_type": "markdown",
      "metadata": {
        "id": "bkSQVbF7ScJw"
      },
      "source": [
        "# Chargement du modèle GPT-2 entrainé"
      ]
    },
    {
      "cell_type": "code",
      "execution_count": null,
      "metadata": {
        "colab": {
          "base_uri": "https://localhost:8080/"
        },
        "id": "o-37KOuhTPPe",
        "outputId": "1b5558f4-f59b-49ae-dc75-8b1a56cb371d"
      },
      "outputs": [
        {
          "name": "stdout",
          "output_type": "stream",
          "text": [
            "Requirement already satisfied: typing-extensions in /usr/local/lib/python3.10/dist-packages (4.9.0)\n"
          ]
        }
      ],
      "source": [
        "!pip install --upgrade typing-extensions\n",
        "!pip install gradio -q\n",
        "!pip install keras_nlp -q\n"
      ]
    },
    {
      "cell_type": "code",
      "execution_count": null,
      "metadata": {
        "id": "7Ko-xzBtS31k"
      },
      "outputs": [],
      "source": [
        "import os\n",
        "from tensorflow import keras\n",
        "import keras_nlp\n",
        "from google.colab import drive\n",
        "import time"
      ]
    },
    {
      "cell_type": "code",
      "execution_count": null,
      "metadata": {
        "colab": {
          "base_uri": "https://localhost:8080/"
        },
        "id": "NkGUW8SSSmzQ",
        "outputId": "f4dd32a7-6553-4fd3-86d5-aaf7b74d5f40"
      },
      "outputs": [
        {
          "name": "stderr",
          "output_type": "stream",
          "text": [
            "/usr/local/lib/python3.10/dist-packages/keras_nlp/src/models/backbone.py:37: UserWarning: `Model.state_updates` will be removed in a future version. This property should not be used in TensorFlow 2.0, as `updates` are applied automatically.\n",
            "  return id(getattr(self, attr)) not in self._functional_layer_ids\n",
            "/usr/local/lib/python3.10/dist-packages/keras_nlp/src/models/backbone.py:37: UserWarning: `layer.updates` will be removed in a future version. This property should not be used in TensorFlow 2.0, as `updates` are applied automatically.\n",
            "  return id(getattr(self, attr)) not in self._functional_layer_ids\n"
          ]
        }
      ],
      "source": [
        "os.environ[\"KERAS_BACKEND\"] = \"tensorflow\"  # or \"tensorflow\" or \"torch\"\n",
        "\n",
        "keras.mixed_precision.set_global_policy(\"mixed_float16\")\n",
        "\n",
        "preprocessor = keras_nlp.models.GPT2CausalLMPreprocessor.from_preset(\n",
        "    \"gpt2_base_en\",\n",
        "    sequence_length=128,\n",
        ")\n",
        "gpt2_lm = keras_nlp.models.GPT2CausalLM.from_preset(\n",
        "    \"gpt2_base_en\", preprocessor=preprocessor\n",
        ")"
      ]
    },
    {
      "cell_type": "code",
      "execution_count": null,
      "metadata": {
        "colab": {
          "base_uri": "https://localhost:8080/"
        },
        "id": "HCzNBLKsS234",
        "outputId": "c81b43fa-3754-4885-ee87-8e62c31dab6e"
      },
      "outputs": [
        {
          "name": "stdout",
          "output_type": "stream",
          "text": [
            "Mounted at /content/drive\n"
          ]
        },
        {
          "name": "stderr",
          "output_type": "stream",
          "text": [
            "/usr/local/lib/python3.10/dist-packages/keras_nlp/src/models/task.py:47: UserWarning: `Model.state_updates` will be removed in a future version. This property should not be used in TensorFlow 2.0, as `updates` are applied automatically.\n",
            "  return id(getattr(self, attr)) not in self._functional_layer_ids\n",
            "/usr/local/lib/python3.10/dist-packages/keras_nlp/src/models/task.py:47: UserWarning: `layer.updates` will be removed in a future version. This property should not be used in TensorFlow 2.0, as `updates` are applied automatically.\n",
            "  return id(getattr(self, attr)) not in self._functional_layer_ids\n",
            "/usr/local/lib/python3.10/dist-packages/keras_nlp/src/models/backbone.py:37: UserWarning: `Model.state_updates` will be removed in a future version. This property should not be used in TensorFlow 2.0, as `updates` are applied automatically.\n",
            "  return id(getattr(self, attr)) not in self._functional_layer_ids\n",
            "/usr/local/lib/python3.10/dist-packages/keras_nlp/src/models/backbone.py:37: UserWarning: `layer.updates` will be removed in a future version. This property should not be used in TensorFlow 2.0, as `updates` are applied automatically.\n",
            "  return id(getattr(self, attr)) not in self._functional_layer_ids\n"
          ]
        },
        {
          "data": {
            "text/plain": [
              "<tensorflow.python.checkpoint.checkpoint.CheckpointLoadStatus at 0x7fba9a590c10>"
            ]
          },
          "execution_count": 76,
          "metadata": {},
          "output_type": "execute_result"
        }
      ],
      "source": [
        "drive.mount('/content/drive', force_remount=True)\n",
        "checkpoint_path = \"/content/drive/MyDrive/training_data_all_3/cp.ckpt\"\n",
        "\n",
        "gpt2_lm.load_weights(checkpoint_path)"
      ]
    },
    {
      "cell_type": "markdown",
      "metadata": {
        "id": "D5BxAuNpT2p2"
      },
      "source": [
        "# Chargement et configuration de gradio"
      ]
    },
    {
      "cell_type": "code",
      "execution_count": null,
      "metadata": {
        "id": "01RhGaukbeZN"
      },
      "outputs": [],
      "source": [
        "def generate_text(prompt):\n",
        "    return gpt2_lm.generate(prompt, max_length=100)"
      ]
    },
    {
      "cell_type": "code",
      "execution_count": null,
      "metadata": {
        "id": "objYcob3sb_t"
      },
      "outputs": [],
      "source": [
        "\n",
        "# CSS styles\n",
        "css = \"\"\"\n",
        "body, html {\n",
        "  height: 100%;\n",
        "  margin: 0;\n",
        "  font-family: 'Arial', sans-serif;\n",
        "  background-color: #131722; /* Dark background color */\n",
        "  color: #ffffff;\n",
        "}\n",
        "\n",
        "/* Container for the entire chat interface */\n",
        "#chat-interface {\n",
        "  display: flex;\n",
        "  flex-direction: column;\n",
        "  max-width: 80%; /* Ensure maximum width */\n",
        "  height: 100vh;\n",
        "  justify-content: space-between;\n",
        "  margin: 0 auto; /* Center the chat interface */\n",
        "}\n",
        "\n",
        "/* Container for the chat messages */\n",
        "#chat-messages {\n",
        "  flex-grow: 1;\n",
        "  overflow-y: auto;\n",
        "  background: none;\n",
        "  max-width: 100%; /* Ensure maximum width */\n",
        "}\n",
        "\n",
        "/* Styling for the chatbot bubble messages */\n",
        ".gr-chatbot .chatbubble {\n",
        "  max-width: 85%;\n",
        "  margin-bottom: 12px;\n",
        "  border-radius: 16px;\n",
        "  padding: 12px 16px;\n",
        "  position: relative;\n",
        "  font-size: 1rem;\n",
        "}\n",
        "\n",
        ".gr-chatbot .chatbubble:before {\n",
        "  content: '';\n",
        "  position: absolute;\n",
        "  width: 0;\n",
        "  height: 0;\n",
        "  border-style: solid;\n",
        "}\n",
        "\n",
        "/* Chatbot message bubble */\n",
        ".gr-chatbot .bot .chatbubble {\n",
        "  background-color: #2d3e55; /* Darker bubble background */\n",
        "}\n",
        "\n",
        "/* User message bubble */\n",
        ".gr-chatbot .user .chatbubble {\n",
        "  background-color: #4CAF50; /* Green bubble background */\n",
        "}\n",
        "\n",
        "/* Input area styling */\n",
        "#input-area {\n",
        "  display: flex;\n",
        "  align-items: center;\n",
        "  padding: 20px;\n",
        "}\n",
        "\n",
        "/* Text input field styling */\n",
        "#input-area .gr-textbox {\n",
        "  flex: 1;\n",
        "  margin-right: 12px;\n",
        "  padding: 12px 16px;\n",
        "  border: 5px solid #627385;\n",
        "  border-radius: 16px;\n",
        "  font-size: 1rem;\n",
        "}\n",
        "\n",
        "/* Send button styling */\n",
        "#input-area button {\n",
        "  padding: 12px 20px;\n",
        "  background-color: #4CAF50; /* Green button color */\n",
        "  border: none;\n",
        "  border-radius: 16px;\n",
        "  cursor: pointer;\n",
        "  font-size: 1rem;\n",
        "  color: #fff;\n",
        "}\n",
        "\n",
        "/* Suggestion buttons styling */\n",
        ".suggestion-btn {\n",
        "  background-color: #2d3e55; /* Dark button color */\n",
        "  color: #ffffff;\n",
        "  padding: 10px 50px;\n",
        "  margin: 5px;\n",
        "  border: 2px solid #627385;\n",
        "  border-radius: 20px;\n",
        "  cursor: pointer;\n",
        "  font-size: 14px;\n",
        "  display: inline-block;\n",
        "}\n",
        "\n",
        "/* Suggestions container */\n",
        "#suggestions {\n",
        "  padding: 20px;\n",
        "}\n",
        "\n",
        "/* Style the avatar images if needed */\n",
        ".gr-chatbot .gr-chatbot-avatar-image {\n",
        "  border-radius: 50%;\n",
        "}\n",
        "\n",
        "/* Style for the chatbot avatar */\n",
        ".gr-chatbot .bot .gr-chatbot-avatar-image {\n",
        "  background-image: url('/content/drive/MyDrive/img/ALOQAS logo.png');\n",
        "}\n",
        "\n",
        "/* Style for the user avatar */\n",
        ".gr-chatbot .user .gr-chatbot-avatar-image {\n",
        "  background-image: url('/content/drive/MyDrive/img/pp discord copie.png');\n",
        "}\n",
        "\n",
        "/* Additional CSS for layout adjustments */\n",
        "#header {\n",
        "  display: flex;\n",
        "  flex-direction: column;\n",
        "  max-width: 100%; /* Ensure maximum width */\n",
        "  gap: 20px;\n",
        "  justify-content: center;\n",
        "  align-items: center;\n",
        "  margin: 0 auto; /* Center the chat interface */\n",
        "}\n",
        "\n",
        "#main-title {\n",
        "  font-size: 2.5em;\n",
        "  margin-bottom: 0.5em;\n",
        "  color: #ffffff;\n",
        "}\n",
        "\n",
        "#sub-title {\n",
        "  font-size: 1.5em;\n",
        "  margin-bottom: 1em;\n",
        "  color: #ffffff;\n",
        "}\n",
        "\n",
        "/* Adjust the chat interface to not grow beyond its container */\n",
        "#chat-interface {\n",
        "  flex: 1;\n",
        "  overflow: auto; /* Add scrolling to the chat interface if needed */\n",
        "}\n",
        "\n",
        ".logo {\n",
        "  width: 300px; /* Width of the logo */\n",
        "  height: 300px; /* Height of the logo, should be equal to width for a perfect circle */\n",
        "  background-image: url('https://github.com/LucasAguetai/ALOQAS/blob/main/Ressources/ALOQAS%20logo.png?raw=trueg');\n",
        "  background-size: cover; /* Cover the entire area of the div without stretching */\n",
        "  background-position: center; /* Center the background image within the div */\n",
        "  border-radius: 50%; /* This will make it circular */\n",
        "  display: inline-block; /* Allows the div to be inline with text and other inline elements */\n",
        "  margin-bottom: 1em; /* Space below the logo */\n",
        "}\n",
        "\n",
        "#input-area > *{\n",
        "  padding: 0px;\n",
        "  border: 3px solid #627385;\n",
        "}\n",
        "\n",
        "#input-area > * > *{\n",
        "  padding: 0px;\n",
        "  background-color: #091E37;\n",
        "}\n",
        "\n",
        "#input-area > * * {\n",
        "  border-radius: 0px !important;\n",
        "}\n",
        "\n",
        ".dark{\n",
        "  --background-fill-primary: #091E37 !important;\n",
        "}\n",
        "\n",
        ".send{\n",
        "  max-width: 10px;\n",
        "  background-color: #627385 !important;\n",
        "}\n",
        "\"\"\"\n"
      ]
    },
    {
      "cell_type": "code",
      "execution_count": null,
      "metadata": {
        "colab": {
          "base_uri": "https://localhost:8080/",
          "height": 616
        },
        "id": "5JCzMlhucTwI",
        "outputId": "749d7ec5-3066-47e3-e382-fd6b334e4462"
      },
      "outputs": [
        {
          "name": "stdout",
          "output_type": "stream",
          "text": [
            "Colab notebook detected. To show errors in colab notebook, set debug=True in launch()\n",
            "Note: opening Chrome Inspector may crash demo inside Colab notebooks.\n",
            "\n",
            "To create a public link, set `share=True` in `launch()`.\n"
          ]
        },
        {
          "data": {
            "application/javascript": "(async (port, path, width, height, cache, element) => {\n                        if (!google.colab.kernel.accessAllowed && !cache) {\n                            return;\n                        }\n                        element.appendChild(document.createTextNode(''));\n                        const url = await google.colab.kernel.proxyPort(port, {cache});\n\n                        const external_link = document.createElement('div');\n                        external_link.innerHTML = `\n                            <div style=\"font-family: monospace; margin-bottom: 0.5rem\">\n                                Running on <a href=${new URL(path, url).toString()} target=\"_blank\">\n                                    https://localhost:${port}${path}\n                                </a>\n                            </div>\n                        `;\n                        element.appendChild(external_link);\n\n                        const iframe = document.createElement('iframe');\n                        iframe.src = new URL(path, url).toString();\n                        iframe.height = height;\n                        iframe.allow = \"autoplay; camera; microphone; clipboard-read; clipboard-write;\"\n                        iframe.width = width;\n                        iframe.style.border = 0;\n                        element.appendChild(iframe);\n                    })(7920, \"/\", \"100%\", 500, false, window.element)",
            "text/plain": [
              "<IPython.core.display.Javascript object>"
            ]
          },
          "metadata": {},
          "output_type": "display_data"
        },
        {
          "data": {
            "text/plain": []
          },
          "execution_count": 79,
          "metadata": {},
          "output_type": "execute_result"
        }
      ],
      "source": [
        "import gradio as gr\n",
        "\n",
        "theme = gr.themes.Base(primary_hue=\"slate\")\n",
        "\n",
        "suggestion_text_1 = \"What's the weather like today?\"\n",
        "suggestion_text_2 = \"Can you provide stock market updates?\"\n",
        "suggestion_text_3 = \"I need assistance with my account.\"\n",
        "\n",
        "# Assuming generate_text is a function that generates a text response\n",
        "def respond(message):\n",
        "    # You will need to implement generate_response to create a response to the user's message.\n",
        "    response = generate_text(message)\n",
        "    return response\n",
        "\n",
        "def respond(message):\n",
        "    response = generate_text(message)\n",
        "    return [[\"bot\", response]]\n",
        "\n",
        "def suggestion1():\n",
        "    response = generate_text(suggestion_text_1)\n",
        "    return [[\"user\", suggestion_text_1], [\"bot\", response]]\n",
        "\n",
        "def suggestion2():\n",
        "    response = generate_text(suggestion_text_2)\n",
        "    return [[\"user\", suggestion_text_2], [\"bot\", response]]\n",
        "\n",
        "def suggestion3():\n",
        "    response = generate_text(suggestion_text_3)\n",
        "    return [[\"user\", suggestion_text_3], [\"bot\", response]]\n",
        "\n",
        "with gr.Blocks(theme=theme, css=css) as demo:\n",
        "    gr.Markdown(\"\"\"\n",
        "    <div id='header'>\n",
        "      <h1 id='main-title'>ALOQAS</h1>\n",
        "      <div class='logo'></div>\n",
        "      <h2 id='sub-title'>How can I help you?</h2>\n",
        "    </div>\n",
        "    \"\"\")\n",
        "    with gr.Column(elem_id=\"chat-interface\"):\n",
        "        chat = gr.Chatbot(elem_id=\"chat-messages\", show_label=False)\n",
        "        with gr.Row(elem_id=\"suggestions\"):\n",
        "            sugg1 = gr.Button(suggestion_text_1, elem_classes=\"suggestion-btn\").click(\n",
        "                suggestion1, outputs=chat\n",
        "            )\n",
        "            sugg2 = gr.Button(suggestion_text_2, elem_classes=\"suggestion-btn\").click(\n",
        "                suggestion2, outputs=chat\n",
        "            )\n",
        "            sugg3 = gr.Button(suggestion_text_3, elem_classes=\"suggestion-btn\").click(\n",
        "                suggestion3, outputs=chat\n",
        "            )\n",
        "        with gr.Row(elem_id=\"input-area\"):\n",
        "            text_input = gr.Textbox(placeholder=\"Write to ALOQAS...\", show_label=False)\n",
        "            send_button = gr.Button(\"Send\", elem_classes=\"send\")\n",
        "            send_button.click(\n",
        "                fn=respond,\n",
        "                inputs=text_input,\n",
        "                outputs=chat\n",
        "            )\n",
        "\n",
        "demo.launch(share=False)"
      ]
    },
    {
      "cell_type": "code",
      "execution_count": null,
      "metadata": {
        "id": "PpODB7dDsLhp"
      },
      "outputs": [],
      "source": []
    }
  ],
  "metadata": {
    "accelerator": "GPU",
    "colab": {
      "gpuType": "T4",
      "provenance": []
    },
    "kernelspec": {
      "display_name": "Python 3",
      "name": "python3"
    },
    "language_info": {
      "name": "python"
    }
  },
  "nbformat": 4,
  "nbformat_minor": 0
}

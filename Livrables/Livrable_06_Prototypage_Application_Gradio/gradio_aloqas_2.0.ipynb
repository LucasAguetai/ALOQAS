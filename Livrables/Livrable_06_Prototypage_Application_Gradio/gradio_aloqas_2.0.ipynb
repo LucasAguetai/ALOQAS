{
  "cells": [
    {
      "cell_type": "markdown",
      "metadata": {
        "id": "bkSQVbF7ScJw"
      },
      "source": [
        "# Chargement du modèle GPT-2 entrainé"
      ]
    },
    {
      "cell_type": "code",
      "execution_count": null,
      "metadata": {
        "id": "o-37KOuhTPPe",
        "colab": {
          "base_uri": "https://localhost:8080/"
        },
        "outputId": "533c3c96-1347-4de2-b85a-b94e6f90f036"
      },
      "outputs": [
        {
          "output_type": "stream",
          "name": "stdout",
          "text": [
            "\u001b[2K     \u001b[90m━━━━━━━━━━━━━━━━━━━━━━━━━━━━━━━━━━━━━━━━\u001b[0m \u001b[32m16.9/16.9 MB\u001b[0m \u001b[31m27.0 MB/s\u001b[0m eta \u001b[36m0:00:00\u001b[0m\n",
            "\u001b[2K     \u001b[90m━━━━━━━━━━━━━━━━━━━━━━━━━━━━━━━━━━━━━━━━\u001b[0m \u001b[32m92.1/92.1 kB\u001b[0m \u001b[31m4.2 MB/s\u001b[0m eta \u001b[36m0:00:00\u001b[0m\n",
            "\u001b[?25h  Preparing metadata (setup.py) ... \u001b[?25l\u001b[?25hdone\n",
            "\u001b[2K     \u001b[90m━━━━━━━━━━━━━━━━━━━━━━━━━━━━━━━━━━━━━━━━\u001b[0m \u001b[32m307.7/307.7 kB\u001b[0m \u001b[31m17.7 MB/s\u001b[0m eta \u001b[36m0:00:00\u001b[0m\n",
            "\u001b[2K     \u001b[90m━━━━━━━━━━━━━━━━━━━━━━━━━━━━━━━━━━━━━━━━\u001b[0m \u001b[32m75.9/75.9 kB\u001b[0m \u001b[31m6.1 MB/s\u001b[0m eta \u001b[36m0:00:00\u001b[0m\n",
            "\u001b[2K     \u001b[90m━━━━━━━━━━━━━━━━━━━━━━━━━━━━━━━━━━━━━━━━\u001b[0m \u001b[32m139.0/139.0 kB\u001b[0m \u001b[31m14.3 MB/s\u001b[0m eta \u001b[36m0:00:00\u001b[0m\n",
            "\u001b[2K     \u001b[90m━━━━━━━━━━━━━━━━━━━━━━━━━━━━━━━━━━━━━━━━\u001b[0m \u001b[32m7.6/7.6 MB\u001b[0m \u001b[31m56.4 MB/s\u001b[0m eta \u001b[36m0:00:00\u001b[0m\n",
            "\u001b[2K     \u001b[90m━━━━━━━━━━━━━━━━━━━━━━━━━━━━━━━━━━━━━━━━\u001b[0m \u001b[32m60.8/60.8 kB\u001b[0m \u001b[31m6.6 MB/s\u001b[0m eta \u001b[36m0:00:00\u001b[0m\n",
            "\u001b[2K     \u001b[90m━━━━━━━━━━━━━━━━━━━━━━━━━━━━━━━━━━━━━━━━\u001b[0m \u001b[32m129.9/129.9 kB\u001b[0m \u001b[31m13.1 MB/s\u001b[0m eta \u001b[36m0:00:00\u001b[0m\n",
            "\u001b[2K     \u001b[90m━━━━━━━━━━━━━━━━━━━━━━━━━━━━━━━━━━━━━━━━\u001b[0m \u001b[32m58.3/58.3 kB\u001b[0m \u001b[31m6.5 MB/s\u001b[0m eta \u001b[36m0:00:00\u001b[0m\n",
            "\u001b[2K     \u001b[90m━━━━━━━━━━━━━━━━━━━━━━━━━━━━━━━━━━━━━━━━\u001b[0m \u001b[32m71.5/71.5 kB\u001b[0m \u001b[31m7.5 MB/s\u001b[0m eta \u001b[36m0:00:00\u001b[0m\n",
            "\u001b[2K     \u001b[90m━━━━━━━━━━━━━━━━━━━━━━━━━━━━━━━━━━━━━━━━\u001b[0m \u001b[32m77.0/77.0 kB\u001b[0m \u001b[31m8.5 MB/s\u001b[0m eta \u001b[36m0:00:00\u001b[0m\n",
            "\u001b[?25h  Building wheel for ffmpy (setup.py) ... \u001b[?25l\u001b[?25hdone\n",
            "\u001b[31mERROR: pip's dependency resolver does not currently take into account all the packages that are installed. This behaviour is the source of the following dependency conflicts.\n",
            "lida 0.0.10 requires kaleido, which is not installed.\u001b[0m\u001b[31m\n",
            "\u001b[2K     \u001b[90m━━━━━━━━━━━━━━━━━━━━━━━━━━━━━━━━━━━━━━━━\u001b[0m \u001b[32m415.4/415.4 kB\u001b[0m \u001b[31m5.9 MB/s\u001b[0m eta \u001b[36m0:00:00\u001b[0m\n",
            "\u001b[2K     \u001b[90m━━━━━━━━━━━━━━━━━━━━━━━━━━━━━━━━━━━━━━━━\u001b[0m \u001b[32m950.8/950.8 kB\u001b[0m \u001b[31m11.1 MB/s\u001b[0m eta \u001b[36m0:00:00\u001b[0m\n",
            "\u001b[2K     \u001b[90m━━━━━━━━━━━━━━━━━━━━━━━━━━━━━━━━━━━━━━━━\u001b[0m \u001b[32m5.2/5.2 MB\u001b[0m \u001b[31m18.8 MB/s\u001b[0m eta \u001b[36m0:00:00\u001b[0m\n",
            "\u001b[?25h"
          ]
        }
      ],
      "source": [
        "!pip install --upgrade typing-extensions -q\n",
        "!pip install gradio -q\n",
        "!pip install keras_nlp -q"
      ]
    },
    {
      "cell_type": "code",
      "execution_count": null,
      "metadata": {
        "id": "7Ko-xzBtS31k",
        "colab": {
          "base_uri": "https://localhost:8080/"
        },
        "outputId": "f434cf51-368e-485f-89cf-0f4a7c02acb2"
      },
      "outputs": [
        {
          "output_type": "stream",
          "name": "stdout",
          "text": [
            "Using TensorFlow backend\n"
          ]
        }
      ],
      "source": [
        "import os\n",
        "from tensorflow import keras\n",
        "import keras_nlp\n",
        "from google.colab import drive\n",
        "import time\n",
        "import re"
      ]
    },
    {
      "cell_type": "code",
      "source": [
        "os.environ[\"KERAS_BACKEND\"] = \"tensorflow\"  # or \"tensorflow\" or \"torch\"\n",
        "\n",
        "keras.mixed_precision.set_global_policy(\"mixed_float16\")\n",
        "\n",
        "preprocessor = keras_nlp.models.GPT2CausalLMPreprocessor.from_preset(\n",
        "    \"gpt2_base_en\",\n",
        "    sequence_length=128,\n",
        ")\n",
        "gpt2_lm = keras_nlp.models.GPT2CausalLM.from_preset(\n",
        "    \"gpt2_base_en\", preprocessor=preprocessor\n",
        ")"
      ],
      "metadata": {
        "colab": {
          "base_uri": "https://localhost:8080/"
        },
        "id": "yo3NDVHjtlT9",
        "outputId": "f513eef1-953e-46f6-f0e5-9e99d3bf55ef"
      },
      "execution_count": null,
      "outputs": [
        {
          "output_type": "stream",
          "name": "stderr",
          "text": [
            "Downloading from https://www.kaggle.com/api/v1/models/keras/gpt2/keras/gpt2_base_en/2/download/tokenizer.json...\n",
            "100%|██████████| 448/448 [00:00<00:00, 123kB/s]\n",
            "Downloading from https://www.kaggle.com/api/v1/models/keras/gpt2/keras/gpt2_base_en/2/download/assets/tokenizer/merges.txt...\n",
            "100%|██████████| 446k/446k [00:00<00:00, 54.0MB/s]\n",
            "Downloading from https://www.kaggle.com/api/v1/models/keras/gpt2/keras/gpt2_base_en/2/download/assets/tokenizer/vocabulary.json...\n",
            "100%|██████████| 0.99M/0.99M [00:00<00:00, 53.5MB/s]\n",
            "Downloading from https://www.kaggle.com/api/v1/models/keras/gpt2/keras/gpt2_base_en/2/download/config.json...\n",
            "100%|██████████| 484/484 [00:00<00:00, 388kB/s]\n",
            "Downloading from https://www.kaggle.com/api/v1/models/keras/gpt2/keras/gpt2_base_en/2/download/model.weights.h5...\n",
            "100%|██████████| 475M/475M [00:06<00:00, 76.6MB/s]\n"
          ]
        }
      ]
    },
    {
      "cell_type": "code",
      "execution_count": null,
      "metadata": {
        "id": "HCzNBLKsS234",
        "colab": {
          "base_uri": "https://localhost:8080/"
        },
        "outputId": "87fe8c83-ca85-4379-9c0f-70c019ff6022"
      },
      "outputs": [
        {
          "output_type": "stream",
          "name": "stdout",
          "text": [
            "Mounted at /content/drive\n"
          ]
        },
        {
          "output_type": "stream",
          "name": "stderr",
          "text": [
            "/usr/local/lib/python3.10/dist-packages/keras_nlp/src/models/task.py:47: UserWarning: `Model.state_updates` will be removed in a future version. This property should not be used in TensorFlow 2.0, as `updates` are applied automatically.\n",
            "  return id(getattr(self, attr)) not in self._functional_layer_ids\n",
            "/usr/local/lib/python3.10/dist-packages/keras_nlp/src/models/task.py:47: UserWarning: `layer.updates` will be removed in a future version. This property should not be used in TensorFlow 2.0, as `updates` are applied automatically.\n",
            "  return id(getattr(self, attr)) not in self._functional_layer_ids\n"
          ]
        },
        {
          "output_type": "execute_result",
          "data": {
            "text/plain": [
              "<tensorflow.python.checkpoint.checkpoint.CheckpointLoadStatus at 0x7ae222dcd360>"
            ]
          },
          "metadata": {},
          "execution_count": 7
        }
      ],
      "source": [
        "drive.mount('/content/drive', force_remount=True)\n",
        "checkpoint_path = \"/content/drive/MyDrive/training_data_all_remake_base_epochs/cp.ckpt\"\n",
        "\n",
        "gpt2_lm.load_weights(checkpoint_path)"
      ]
    },
    {
      "cell_type": "markdown",
      "metadata": {
        "id": "D5BxAuNpT2p2"
      },
      "source": [
        "# Chargement et configuration de Gradio"
      ]
    },
    {
      "cell_type": "markdown",
      "source": [
        "## Fonctions de génération de texte"
      ],
      "metadata": {
        "id": "LRYGs-zEtNdF"
      }
    },
    {
      "cell_type": "code",
      "source": [
        "# Expérimental\n",
        "def format_text(text, to_remove):\n",
        "    # Function to format generated text\n",
        "    # - removes the prompt from the answer\n",
        "    # - removes unnecessary space chars before punctuation\n",
        "    # - capitalize the first letter of each sentence\n",
        "    text = text.replace(to_remove, '')\n",
        "    text = re.sub(r' +,', ',', text) # comma\n",
        "    text = re.sub(r' +\\.', '.', text) # full stop\n",
        "    text = '. '.join(sentence.strip().capitalize() for sentence in text.split('.'))\n",
        "\n",
        "    return text"
      ],
      "metadata": {
        "id": "UvrTf0F2jrd2"
      },
      "execution_count": null,
      "outputs": []
    },
    {
      "cell_type": "code",
      "execution_count": null,
      "metadata": {
        "id": "01RhGaukbeZN",
        "colab": {
          "base_uri": "https://localhost:8080/",
          "height": 35
        },
        "outputId": "735567bd-3225-430d-89d6-d31b6555b7ee"
      },
      "outputs": [
        {
          "output_type": "execute_result",
          "data": {
            "text/plain": [
              "'\\ndef generate_text(prompt):\\n    return gpt2_lm.generate(prompt, max_length=100)\\n'"
            ],
            "application/vnd.google.colaboratory.intrinsic+json": {
              "type": "string"
            }
          },
          "metadata": {},
          "execution_count": 9
        }
      ],
      "source": [
        "#def generate_text(prompt):\n",
        "    # return gpt2_lm.generate(prompt, max_length=100)"
      ]
    },
    {
      "cell_type": "code",
      "source": [
        "# Expérimental\n",
        "def generate_text(prompt):\n",
        "  output = gpt2_lm.generate(prompt, max_length=150)\n",
        "  formatted_output = format_text(output, prompt)\n",
        "  print(f\"DEBUG - GPT-2 Output : {output}\")\n",
        "  print(f\"DEBUG - Formatted GPT-2 Output : {formatted_output}\")\n",
        "  return formatted_output"
      ],
      "metadata": {
        "id": "Zk-L7Y1dnx0z"
      },
      "execution_count": null,
      "outputs": []
    },
    {
      "cell_type": "markdown",
      "source": [
        "## Stylisation CSS"
      ],
      "metadata": {
        "id": "AQxJzUactRSB"
      }
    },
    {
      "cell_type": "code",
      "execution_count": null,
      "metadata": {
        "id": "objYcob3sb_t"
      },
      "outputs": [],
      "source": [
        "# CSS styles\n",
        "css = \"\"\"\n",
        "@import url('https://fonts.googleapis.com/css2?family=Poppins&display=swap')\n",
        "body, html {\n",
        "  height: 100%;\n",
        "  margin: 0;\n",
        "  font-family : 'Poppins', sans-serif;\n",
        "  # font-family: 'Arial', sans-serif;\n",
        "}\n",
        "\n",
        ":root{\n",
        "  --body-background-fill: none !important;\n",
        "}\n",
        "\n",
        "body,html {\n",
        "    background-color: #131722; /* Dark background color */\n",
        "    color: #ffffff;\n",
        "  }\n",
        "\n",
        "/* Container for the entire chat interface */\n",
        "#chat-interface {\n",
        "  display: flex;\n",
        "  flex-direction: column;\n",
        "  max-width: 80%; /* Ensure maximum width */\n",
        "  height: 100vh;\n",
        "  justify-content: space-between;\n",
        "  margin: 0 auto; /* Center the chat interface */\n",
        "}\n",
        "\n",
        "/* Container for the chat messages */\n",
        "#chat-messages {\n",
        "  flex-grow: 1;\n",
        "  overflow-y: auto;\n",
        "  background: none;\n",
        "  border: 1px solid #627385 !important;\n",
        "  max-height: 25%;\n",
        "}\n",
        "\n",
        "/* Styling for the chatbot bubble messages */\n",
        ".gr-chatbot .chatbubble {\n",
        "  max-width: 85%;\n",
        "  margin-bottom: 12px;\n",
        "  border-radius: 16px;\n",
        "  padding: 12px 16px;\n",
        "  position: relative;\n",
        "  font-size: 1rem;\n",
        "}\n",
        "\n",
        ".gr-chatbot .chatbubble:before {\n",
        "  content: '';\n",
        "  position: absolute;\n",
        "  width: 0;\n",
        "  height: 0;\n",
        "  border-style: solid;\n",
        "}\n",
        "\n",
        "/* Chatbot message bubble */\n",
        ".gr-chatbot .bot .chatbubble {\n",
        "  background-color: #2d3e55; /* Darker bubble background */\n",
        "}\n",
        "\n",
        "/* User message bubble */\n",
        ".gr-chatbot .user .chatbubble {\n",
        "  background-color: #4CAF50; /* Green bubble background */\n",
        "}\n",
        "\n",
        "/* Input area styling */\n",
        "#input-area {\n",
        "  display: flex;\n",
        "  align-items: center;\n",
        "  padding: 20px;\n",
        "}\n",
        "\n",
        "/* Text input field styling */\n",
        "#input-area .gr-textbox {\n",
        "  flex: 1;\n",
        "  margin-right: 12px;\n",
        "  padding: 12px 16px;\n",
        "  border: 5px solid #627385;\n",
        "  border-radius: 16px;\n",
        "  font-size: 1rem;\n",
        "}\n",
        "\n",
        "/* Send button styling */\n",
        "#input-area button {\n",
        "  padding: 12px 20px;\n",
        "  background-color: #4CAF50; /* Green button color */\n",
        "  border: none;\n",
        "  border-radius: 16px;\n",
        "  cursor: pointer;\n",
        "  font-size: 1rem;\n",
        "  color: #fff;\n",
        "}\n",
        "\n",
        "/* Suggestion buttons styling */\n",
        ".suggestion-btn {\n",
        "  background-color: #2d3e55; /*Dark button color */\n",
        "  color: #ffffff;\n",
        "  padding: 10px 50px;\n",
        "  margin: 5px;\n",
        "  border: 2px solid #627385;\n",
        "  border-radius: 20px;\n",
        "  cursor: pointer;\n",
        "  font-size: 14px;\n",
        "  display: inline-block;\n",
        "}\n",
        "\n",
        "/* Suggestions container */\n",
        "#suggestions {\n",
        "  padding: 20px;\n",
        "}\n",
        "\n",
        "/* Style the avatar images if needed */\n",
        ".gr-chatbot .gr-chatbot-avatar-image {\n",
        "  border-radius: 50%;\n",
        "}\n",
        "\n",
        "/* Style for the chatbot avatar */\n",
        ".gr-chatbot .bot .gr-chatbot-avatar-image {\n",
        "  background-image: url('/content/drive/MyDrive/img/ALOQAS logo.png');\n",
        "}\n",
        "\n",
        "/* Style for the user avatar */\n",
        ".gr-chatbot .user .gr-chatbot-avatar-image {\n",
        "  background-image: url('/content/drive/MyDrive/img/pp discord copie.png');\n",
        "}\n",
        "\n",
        "/* Additional CSS for layout adjustments */\n",
        "#header {\n",
        "  display: flex;\n",
        "  flex-direction: column;\n",
        "  max-width: 100%; /* Ensure maximum width */\n",
        "  gap: 20px;\n",
        "  justify-content: center;\n",
        "  align-items: center;\n",
        "  margin: 0 auto; /* Center the chat interface */\n",
        "}\n",
        "\n",
        "#main-title {\n",
        "  font-size: 2.5em;\n",
        "  margin-bottom: 0.5em;\n",
        "  color: #ffffff;\n",
        "}\n",
        "\n",
        "#sub-title {\n",
        "  font-size: 1.5em;\n",
        "  margin-bottom: 1em;\n",
        "  color: #ffffff;\n",
        "}\n",
        "\n",
        "/* Adjust the chat interface to not grow beyond its container */\n",
        "#chat-interface {\n",
        "  flex: 1;\n",
        "  overflow: auto; /* Add scrolling to the chat interface if needed */\n",
        "}\n",
        "\n",
        ".logo {\n",
        "  width: 150px; /* Width of the logo */\n",
        "  height: 150px; /* Height of the logo, should be equal to width for a perfect circle */\n",
        "  background-image: url('https://github.com/LucasAguetai/ALOQAS/blob/main/Ressources/Gif%20Aloqas%20Logo.gif?raw=true');\n",
        "  background-size: cover; /* Cover the entire area of the div without stretching */\n",
        "  background-position: center; /* Center the background image within the div */\n",
        "  border-radius: 50%; /* This will make it circular */\n",
        "  display: inline-block; /* Allows the div to be inline with text and other inline elements */\n",
        "  margin-bottom: 1em; /* Space below the logo */\n",
        "}\n",
        "\n",
        ".message{\n",
        "  max-width: 50% !important;\n",
        "}\n",
        "\n",
        ".pending{\n",
        "    max-width: 100% !important;\n",
        "}\n",
        "\n",
        "#input-area > *{\n",
        "  padding: 0px;\n",
        "  border: 3px solid #627385;\n",
        "}\n",
        "\n",
        "#input-area > * > *{\n",
        "  padding: 0px;\n",
        "  background-color: #091E37 !important;\n",
        "}\n",
        "\n",
        "#input-area > * * {\n",
        "  border-radius: 0px !important;\n",
        "}\n",
        "\n",
        ".dark{\n",
        "  --background-fill-primary: #091E37 !important;\n",
        "}\n",
        "\n",
        ".send{\n",
        "  max-width: 10px;\n",
        "  background-color: #627385 !important;\n",
        "}\n",
        "\"\"\"\n"
      ]
    },
    {
      "cell_type": "markdown",
      "source": [
        "## Réactivité JavaScript"
      ],
      "metadata": {
        "id": "xJQK1UoWtV5G"
      }
    },
    {
      "cell_type": "code",
      "execution_count": null,
      "metadata": {
        "id": "16r06XExLYE5"
      },
      "outputs": [],
      "source": [
        "# JavaScript\n",
        "js = f\"\"\"\n",
        "<script>\n",
        "    window.addEventListener(\"DOMContentLoaded\", (event) => {{\n",
        "      repeatAnimation();\n",
        "    }});\n",
        "\n",
        "    function repeatAnimation() {{\n",
        "      let botLabel = document.querySelector('#input-area');\n",
        "      let originalContent = botLabel.innerHTML;\n",
        "      botLabel.innerHTML = '';\n",
        "      let index = 0;\n",
        "\n",
        "      function typeWriter() {{\n",
        "        if (index < originalContent.length) {{\n",
        "          botLabel.innerHTML += originalContent.charAt(index);\n",
        "          index++;\n",
        "          setTimeout(typeWriter, 300);\n",
        "        }} else {{\n",
        "          // Comportement après animation\n",
        "        }}\n",
        "      }}\n",
        "\n",
        "      typeWriter();\n",
        "    }}\n",
        "  </script>\n",
        "    \"\"\""
      ]
    },
    {
      "cell_type": "markdown",
      "source": [
        "## Application Gradio"
      ],
      "metadata": {
        "id": "vni7isdUtXuB"
      }
    },
    {
      "cell_type": "code",
      "execution_count": null,
      "metadata": {
        "id": "5JCzMlhucTwI",
        "colab": {
          "base_uri": "https://localhost:8080/",
          "height": 618
        },
        "outputId": "9fbd4f8e-5ce1-4b36-9e43-f70412ae2cb8"
      },
      "outputs": [
        {
          "output_type": "stream",
          "name": "stdout",
          "text": [
            "Colab notebook detected. To show errors in colab notebook, set debug=True in launch()\n",
            "Note: opening Chrome Inspector may crash demo inside Colab notebooks.\n",
            "\n",
            "To create a public link, set `share=True` in `launch()`.\n"
          ]
        },
        {
          "output_type": "display_data",
          "data": {
            "text/plain": [
              "<IPython.core.display.Javascript object>"
            ],
            "application/javascript": [
              "(async (port, path, width, height, cache, element) => {\n",
              "                        if (!google.colab.kernel.accessAllowed && !cache) {\n",
              "                            return;\n",
              "                        }\n",
              "                        element.appendChild(document.createTextNode(''));\n",
              "                        const url = await google.colab.kernel.proxyPort(port, {cache});\n",
              "\n",
              "                        const external_link = document.createElement('div');\n",
              "                        external_link.innerHTML = `\n",
              "                            <div style=\"font-family: monospace; margin-bottom: 0.5rem\">\n",
              "                                Running on <a href=${new URL(path, url).toString()} target=\"_blank\">\n",
              "                                    https://localhost:${port}${path}\n",
              "                                </a>\n",
              "                            </div>\n",
              "                        `;\n",
              "                        element.appendChild(external_link);\n",
              "\n",
              "                        const iframe = document.createElement('iframe');\n",
              "                        iframe.src = new URL(path, url).toString();\n",
              "                        iframe.height = height;\n",
              "                        iframe.allow = \"autoplay; camera; microphone; clipboard-read; clipboard-write;\"\n",
              "                        iframe.width = width;\n",
              "                        iframe.style.border = 0;\n",
              "                        element.appendChild(iframe);\n",
              "                    })(7866, \"/\", \"100%\", 500, false, window.element)"
            ]
          },
          "metadata": {}
        },
        {
          "output_type": "execute_result",
          "data": {
            "text/plain": []
          },
          "metadata": {},
          "execution_count": 32
        }
      ],
      "source": [
        "import gradio as gr\n",
        "\n",
        "theme = gr.themes.Base(primary_hue=\"slate\")\n",
        "\n",
        "suggestion = [\n",
        "    \"What are the latest advancements in cancer research ?\",\n",
        "    \"What is the impact of diet on heart disease according to recent studies ?\",\n",
        "    \"What are the usual causes of lung pain ?\"\n",
        "]\n",
        "\n",
        "def respond(message, chat_history):\n",
        "    response = generate_text(message)\n",
        "    chat_history.append((message,response+\".\"))\n",
        "    return \"\", chat_history\n",
        "\n",
        "def suggestion1(chat_history):\n",
        "    response = generate_text(suggestion[0])\n",
        "    chat_history.append((suggestion[0], response+\".\"))\n",
        "    return chat_history\n",
        "\n",
        "def suggestion2(chat_history):\n",
        "    response = generate_text(suggestion[1])\n",
        "    chat_history.append((suggestion[1], response+\".\"))\n",
        "    return chat_history\n",
        "\n",
        "def suggestion3(chat_history):\n",
        "    response = generate_text(suggestion[2])\n",
        "    chat_history.append((suggestion[2], response+\".\"))\n",
        "    return chat_history\n",
        "\n",
        "user_profile_image = \"https://github.com/LucasAguetai/ALOQAS/blob/main/Ressources/ALOQAS%20logo.png?raw=true\"\n",
        "bot_profile_image = \"https://github.com/LucasAguetai/ALOQAS/blob/main/Ressources/pp%20discord%20copie.png?raw=true\"\n",
        "# user_profile_image = \"https://huggingface.co/spaces/ALOQAS/aloqas-gradio/resolve/main/img/user.png\"\n",
        "# bot_profile_image = \"https://huggingface.co/spaces/ALOQAS/aloqas-gradio/resolve/main/img/bot.png\"\n",
        "\n",
        "\n",
        "with gr.Blocks(theme=theme, css=css) as demo:  # Suppression de 'css=css' si 'css' n'est pas défini\n",
        "    gr.Markdown(\"\"\"\n",
        "    <div id='header'>\n",
        "      <h1 id='main-title'>ALOQAS</h1>\n",
        "      <div class='logo'></div>\n",
        "      <h2 id='sub-title'>How can I help you?</h2>\n",
        "    </div>\n",
        "    \"\"\")\n",
        "    with gr.Column(elem_id=\"chat-interface\"):\n",
        "        chat = gr.Chatbot(\n",
        "            elem_id=\"chat-messages\",\n",
        "            show_label=False,\n",
        "            avatar_images=[user_profile_image,bot_profile_image],\n",
        "            value=[[None,\"Hi there ! I'm ALOQAS, a chatbot trained on over 119.000 PubMed scientific papers. Ask me anything about medicine or scientific research !\"]])\n",
        "        with gr.Row(elem_id=\"suggestions\"):\n",
        "            sugg1 = gr.Button(suggestion[0], elem_classes=\"suggestion-btn\").click(\n",
        "                suggestion1, inputs=[chat], outputs=[chat]\n",
        "            )\n",
        "            sugg2 = gr.Button(suggestion[1], elem_classes=\"suggestion-btn\").click(\n",
        "                suggestion2, inputs=[chat], outputs=[chat]\n",
        "            )\n",
        "            sugg3 = gr.Button(suggestion[2], elem_classes=\"suggestion-btn\").click(\n",
        "                suggestion3, inputs=[chat], outputs=[chat]\n",
        "            )\n",
        "        with gr.Row(elem_id=\"input-area\"):\n",
        "            text_input = gr.Textbox(placeholder=\"Type a question, a sentence or keywords to ALOQAS...\", show_label=False)\n",
        "            text_input.submit(respond, inputs=[text_input, chat], outputs=[text_input,chat])\n",
        "\n",
        "demo.launch(share=False)"
      ]
    }
  ],
  "metadata": {
    "colab": {
      "provenance": []
    },
    "kernelspec": {
      "display_name": "Python 3",
      "name": "python3"
    },
    "language_info": {
      "name": "python"
    }
  },
  "nbformat": 4,
  "nbformat_minor": 0
}
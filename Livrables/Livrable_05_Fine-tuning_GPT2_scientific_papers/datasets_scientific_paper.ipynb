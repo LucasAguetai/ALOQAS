{
  "nbformat": 4,
  "nbformat_minor": 0,
  "metadata": {
    "colab": {
      "provenance": []
    },
    "kernelspec": {
      "name": "python3",
      "display_name": "Python 3"
    },
    "language_info": {
      "name": "python"
    }
  },
  "cells": [
    {
      "cell_type": "code",
      "source": [
        "from google.colab import drive\n",
        "import json\n",
        "import os\n",
        "from wordcloud import WordCloud\n",
        "import matplotlib.pyplot as plt"
      ],
      "metadata": {
        "id": "fAH35bZWbaZW"
      },
      "execution_count": null,
      "outputs": []
    },
    {
      "cell_type": "code",
      "source": [
        "drive.mount('/content/drive', force_remount=True)\n",
        "pathToDataset = \"drive/MyDrive/chunking-dataset\""
      ],
      "metadata": {
        "colab": {
          "base_uri": "https://localhost:8080/"
        },
        "id": "viK57qckbDTv",
        "outputId": "48204a09-b80f-497c-ba2b-6e8b1396a545"
      },
      "execution_count": null,
      "outputs": [
        {
          "output_type": "stream",
          "name": "stdout",
          "text": [
            "Mounted at /content/drive\n"
          ]
        }
      ]
    },
    {
      "cell_type": "code",
      "source": [
        "def load_files_from_directory(directory, num_files=None):\n",
        "    all_data = []\n",
        "    all_labels = []\n",
        "    files_processed = 0\n",
        "\n",
        "    for filename in os.listdir(directory):\n",
        "        if num_files is not None and files_processed >= num_files:\n",
        "            break\n",
        "\n",
        "        file_path = os.path.join(directory, filename)\n",
        "        if os.path.isfile(file_path):\n",
        "            with open(file_path, 'r') as file:\n",
        "                articles = json.load(file)\n",
        "                for article in articles:\n",
        "                    all_data.append(article)\n",
        "                    for label in article.keys():\n",
        "                        if label not in all_labels:\n",
        "                            all_labels.append(label)\n",
        "\n",
        "            files_processed += 1\n",
        "\n",
        "    return all_data, all_labels\n",
        "\n",
        "def load_dataset(base_directory, dataset_type, num_files=None):\n",
        "    dataset_directory = os.path.join(base_directory, dataset_type)\n",
        "    return load_files_from_directory(dataset_directory, num_files)"
      ],
      "metadata": {
        "id": "x6C1qrLmbEHZ"
      },
      "execution_count": null,
      "outputs": []
    }
  ]
}